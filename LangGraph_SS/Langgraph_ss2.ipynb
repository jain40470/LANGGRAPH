{
 "cells": [
  {
   "cell_type": "code",
   "execution_count": 2,
   "metadata": {},
   "outputs": [],
   "source": [
    "import os"
   ]
  },
  {
   "cell_type": "code",
   "execution_count": 3,
   "metadata": {},
   "outputs": [],
   "source": [
    "import warnings\n",
    "warnings.filterwarnings(\"ignore\")"
   ]
  },
  {
   "cell_type": "code",
   "execution_count": 4,
   "metadata": {},
   "outputs": [
    {
     "data": {
      "text/plain": [
       "True"
      ]
     },
     "execution_count": 4,
     "metadata": {},
     "output_type": "execute_result"
    }
   ],
   "source": [
    "from dotenv import load_dotenv\n",
    "load_dotenv()"
   ]
  },
  {
   "cell_type": "code",
   "execution_count": 5,
   "metadata": {},
   "outputs": [],
   "source": [
    "GOOGLE_API_KEY = os.getenv(\"GOOGLE_API_KEY\")\n",
    "os.environ[\"GOOGLE_API_KEY\"] = GOOGLE_API_KEY\n",
    "\n",
    "LANGCHAIN_TRACING_V2 = os.getenv(\"LANGCHAIN_TRACING_V2\")\n",
    "os.environ[\"LANGCHAIN_TRACING_V2\"] = LANGCHAIN_TRACING_V2\n",
    "\n",
    "LANGCHAIN_API_KEY = os.getenv(\"LANGCHAIN_API_KEY\")\n",
    "os.environ[\"LANGCHAIN_API_KEY\"] = LANGCHAIN_API_KEY\n",
    "\n",
    "LANGCHAIN_PROJECT = os.getenv(\"LANGCHAIN_PROJECT\")\n",
    "os.environ[\"LANGCHAIN_PROJECT\"] = LANGCHAIN_PROJECT"
   ]
  },
  {
   "cell_type": "code",
   "execution_count": 6,
   "metadata": {},
   "outputs": [],
   "source": [
    "from langgraph.graph import Graph\n",
    "from IPython.display import Image , display"
   ]
  },
  {
   "cell_type": "code",
   "execution_count": 7,
   "metadata": {},
   "outputs": [],
   "source": [
    "def function1(input1):\n",
    "    return input1 + \" first function\"\n",
    "def function2(input2):\n",
    "    return input2 + \" second function\""
   ]
  },
  {
   "cell_type": "code",
   "execution_count": 8,
   "metadata": {},
   "outputs": [],
   "source": [
    "workflow= Graph()\n",
    "\n",
    "# adding nodes\n",
    "workflow.add_node(\"function1\" , function1)\n",
    "workflow.add_node(\"function2\" , function2)\n",
    "\n",
    "# adding edges\n",
    "workflow.add_edge(\"function1\" , \"function2\")\n",
    "\n",
    "# entry point \n",
    "workflow.set_entry_point(\"function1\")\n",
    "\n",
    "# finish point\n",
    "workflow.set_finish_point(\"function2\")\n",
    "\n",
    "\n",
    "app = workflow.compile()"
   ]
  },
  {
   "cell_type": "code",
   "execution_count": 9,
   "metadata": {},
   "outputs": [
    {
     "data": {
      "image/png": "[encoded data removed]",
      "text/plain": [
       "<IPython.core.display.Image object>"
      ]
     },
     "metadata": {},
     "output_type": "display_data"
    }
   ],
   "source": [
    "display( \n",
    "   Image(\n",
    "        app.get_graph().draw_mermaid_png()\n",
    "    )  \n",
    ")"
   ]
  },
  {
   "cell_type": "code",
   "execution_count": 10,
   "metadata": {},
   "outputs": [
    {
     "name": "stdout",
     "output_type": "stream",
     "text": [
      "Yo i am here first function second function\n"
     ]
    }
   ],
   "source": [
    "result = app.invoke(\"Yo i am here\")\n",
    "print(result)"
   ]
  },
  {
   "cell_type": "code",
   "execution_count": 11,
   "metadata": {},
   "outputs": [
    {
     "name": "stdout",
     "output_type": "stream",
     "text": [
      "here is output from function1\n",
      "---\n",
      "Yo i am here first function\n",
      "\n",
      "\n",
      "here is output from function2\n",
      "---\n",
      "Yo i am here first function second function\n",
      "\n",
      "\n"
     ]
    }
   ],
   "source": [
    "#Debugging \n",
    "\n",
    "input = \"Yo i am here\"\n",
    "for output in app.stream(input):\n",
    "    for key,value in output.items():\n",
    "        print(f'here is output from {key}')\n",
    "        print(\"---\")\n",
    "        print(value)\n",
    "        print(\"\\n\")\n"
   ]
  },
  {
   "cell_type": "markdown",
   "metadata": {},
   "source": [
    "let's integrate llm in the workflow"
   ]
  },
  {
   "cell_type": "code",
   "execution_count": 12,
   "metadata": {},
   "outputs": [],
   "source": [
    "from langchain_google_genai import ChatGoogleGenerativeAI"
   ]
  },
  {
   "cell_type": "code",
   "execution_count": 13,
   "metadata": {},
   "outputs": [],
   "source": [
    "def story_teller(input):\n",
    "    llm = ChatGoogleGenerativeAI(model = \"gemini-1.5-pro\" , temperature = 0 , max_tokens=1000)\n",
    "    response = llm.invoke(f\"Write me a brief story on {input}\").content\n",
    "    return response\n",
    "\n",
    "def add_humour(input):\n",
    "    llm = ChatGoogleGenerativeAI(model = \"gemini-1.5-pro\" , temperature = 0 , max_tokens=1000)\n",
    "    response = llm.invoke(f\"here is the story : {input} , add some humour in the story\").content\n",
    "    return response"
   ]
  },
  {
   "cell_type": "code",
   "execution_count": 14,
   "metadata": {},
   "outputs": [],
   "source": [
    "workflow = Graph()\n",
    "\n",
    "# adding nodes\n",
    "workflow.add_node(\" story_teller\" ,  story_teller)\n",
    "workflow.add_node(\"add_humour\" , add_humour)\n",
    "\n",
    "# adding edges\n",
    "workflow.add_edge(\" story_teller\" , \"add_humour\")\n",
    "\n",
    "# entry point \n",
    "workflow.set_entry_point(\" story_teller\")\n",
    "\n",
    "# finish point\n",
    "workflow.set_finish_point(\"add_humour\")\n",
    "\n",
    "app = workflow.compile()"
   ]
  },
  {
   "cell_type": "code",
   "execution_count": 15,
   "metadata": {},
   "outputs": [
    {
     "data": {
      "image/png": "[encoded data removed]",
      "text/plain": [
       "<IPython.core.display.Image object>"
      ]
     },
     "metadata": {},
     "output_type": "display_data"
    }
   ],
   "source": [
    "display( \n",
    "   Image(\n",
    "        app.get_graph().draw_mermaid_png()\n",
    "    )  \n",
    ")"
   ]
  },
  {
   "cell_type": "code",
   "execution_count": 16,
   "metadata": {},
   "outputs": [
    {
     "name": "stdout",
     "output_type": "stream",
     "text": [
      "here is output from  story_teller\n",
      "---\n",
      "The Flying French Fries weren't your average potatoes. Oh no. These spuds had spunk.  They’d been plucked from the fertile fields of Idaho, destined for greasy glory, but fate, in the form of a rogue lightning strike on Farmer McGregor's experimental fertilizer silo, had other plans.\n",
      "\n",
      "The lightning imbued the fries with a strange, buoyant energy.  As they sizzled in the deep fryer of the local diner, they began to levitate, golden and crispy, defying gravity.  Panic ensued.  Customers screamed, the short-order cook fainted, and the fries, sensing freedom, ascended through the roof vent.\n",
      "\n",
      "They became a local legend, the Flying French Fries of Idaho.  Some said they formed a swirling vortex of salty goodness high above the state. Others claimed they’d seen them dive-bombing unsuspecting picnickers, dispensing ketchup packets from tiny, fry-fashioned parachutes.  Truckers reported near-misses with airborne potato projectiles, leaving greasy streaks across their windshields.\n",
      "\n",
      "One day, a young scientist named Penelope, armed with a giant butterfly net and a craving for something salty, tracked the fries to their lair – a massive, floating nest made entirely of discarded burger boxes.  She discovered their secret: the fries were powered by pure, unadulterated joy.  They just wanted to fly, to see the world, to be free.\n",
      "\n",
      "Penelope, touched by their simple desire, struck a deal.  She’d help them achieve their dreams of global travel if they promised to occasionally descend and satisfy her insatiable french fry cravings.  And so, the Flying French Fries became a worldwide phenomenon, a symbol of freedom, joy, and the occasional greasy indulgence.  And Penelope?  She became known as the Fry Whisperer, forever followed by a swirling, salty cloud of happiness.\n",
      "\n",
      "\n",
      "here is output from add_humour\n",
      "---\n",
      "The Flying French Fries weren't your average potatoes. Oh no. These spuds had *spunk*.  They’d been plucked from the fertile fields of Idaho, destined for greasy glory, but fate, in the form of a rogue lightning strike on Farmer McGregor's experimental fertilizer silo (rumor has it he was trying to grow potatoes the size of beach balls), had other plans.\n",
      "\n",
      "The lightning imbued the fries with a strange, buoyant energy.  As they sizzled in the deep fryer of the local diner, \"Greasy Spoon,\" they began to levitate, golden and crispy, defying gravity and the laws of physics (and probably common sense).  Panic ensued.  Customers screamed, the short-order cook, a man named Gus who’d seen it all (except for flying potatoes), fainted dead away, his spatula clattering to the floor like a fallen knight's sword. The fries, sensing freedom, and possibly a distinct lack of ketchup, ascended through the roof vent, leaving a greasy, potato-scented hole in their wake.\n",
      "\n",
      "They became a local legend, the Flying French Fries of Idaho.  Some said they formed a swirling vortex of salty goodness high above the state, occasionally causing minor rain showers of seasoned salt. Others claimed they’d seen them dive-bombing unsuspecting picnickers, dispensing ketchup packets from tiny, fry-fashioned parachutes – a condiment airdrop, if you will.  Truckers reported near-misses with airborne potato projectiles, leaving greasy streaks across their windshields that no amount of wiper fluid could remove, leading to a spike in sales of \"I Brake for Flying Fries\" bumper stickers.\n",
      "\n",
      "One day, a young, and perpetually peckish, scientist named Penelope, armed with a giant butterfly net (originally intended for catching monarch butterflies, but hey, you work with what you’ve got) and a craving for something salty that couldn't be satisfied by celery sticks, tracked the fries to their lair – a massive, floating nest made entirely of discarded burger boxes, held together by solidified grease. It was, frankly, a fire hazard waiting to happen.\n",
      "\n",
      "She discovered their secret: the fries weren't powered by nuclear fusion or alien technology, but by pure, unadulterated joy. They just wanted to fly, to see the world, to be free from the tyranny of dipping sauces (though they were partial to a good aioli).\n",
      "\n",
      "Penelope, touched by their simple desire (and the rumbling in her stomach), struck a deal.  She’d help them achieve their dreams of global travel, booking them flights on budget airlines (they travelled in the overhead compartments, naturally), if they promised to occasionally descend and satisfy her insatiable french fry cravings.  She even negotiated a lifetime supply of ketchup packets.\n",
      "\n",
      "And so, the Flying French Fries became a worldwide phenomenon, a symbol of freedom, joy, and the occasional greasy indulgence.  News channels scrambled to cover the \"Fry-nado\" sweeping the globe. And Penelope?  She became known as the Fry Whisperer, forever followed by a swirling, salty cloud of happiness, and the faint aroma of fast food heaven.  She also invested in a really good lint roller.\n",
      "\n",
      "\n"
     ]
    }
   ],
   "source": [
    "\n",
    "input = \"Flying French Fries\"\n",
    "for output in app.stream(input):\n",
    "    for key,value in output.items():\n",
    "        print(f'here is output from {key}')\n",
    "        print(\"---\")\n",
    "        print(value)\n",
    "        print(\"\\n\")\n"
   ]
  },
  {
   "cell_type": "markdown",
   "metadata": {},
   "source": [
    "let's integrate rag in the workflow"
   ]
  },
  {
   "cell_type": "code",
   "execution_count": 22,
   "metadata": {},
   "outputs": [],
   "source": [
    "from langchain.document_loaders import TextLoader , WebBaseLoader\n",
    "\n",
    "text_loader = TextLoader('/Users/akashjain/Desktop/LangGraph/Util/Indian_economy.txt')\n",
    "document = text_loader.load()\n",
    "\n",
    "from langchain.text_splitter import RecursiveCharacterTextSplitter\n",
    "\n",
    "text_splitter = RecursiveCharacterTextSplitter(chunk_size = 200 , chunk_overlap = 50 )\n",
    "text_chunks = text_splitter.split_documents(documents=document)\n",
    "\n",
    "\n",
    "from langchain_google_genai import GoogleGenerativeAIEmbeddings\n",
    "embeddings = GoogleGenerativeAIEmbeddings(model = \"models/embedding-001\")\n",
    "\n",
    "from langchain.vectorstores import FAISS\n",
    "\n",
    "vector_store = FAISS.from_documents( text_chunks , embedding=embeddings)\n",
    "retriever = vector_store.as_retriever(search_kwargs = {\"k\" : 3})"
   ]
  },
  {
   "cell_type": "code",
   "execution_count": 23,
   "metadata": {},
   "outputs": [
    {
     "name": "stdout",
     "output_type": "stream",
     "text": [
      "page_content='Inflation Rate: Managed at a stable 4.1%, with food prices stabilizing and fuel costs showing a slight decline.\n",
      "India’s last eight years of GDP (hypothetical data):' metadata={'source': '/Users/akashjain/Desktop/LangGraph/Util/Indian_economy.txt'}\n",
      "page_content='India’s strong export sectors—including textiles, IT services, and automotive manufacturing—had seen sluggish growth due to uncertain global demand, leading to a 0.2% contraction in the last quarter' metadata={'source': '/Users/akashjain/Desktop/LangGraph/Util/Indian_economy.txt'}\n",
      "page_content='growth.” The government has announced targeted fiscal policies to support emerging sectors like renewable energy, electronics, and healthcare manufacturing.' metadata={'source': '/Users/akashjain/Desktop/LangGraph/Util/Indian_economy.txt'}\n"
     ]
    }
   ],
   "source": [
    "query = \"Tell me about india's economical growth\"\n",
    "docs = retriever.get_relevant_documents(query)\n",
    "\n",
    "for doc in docs:\n",
    "    print(doc)"
   ]
  },
  {
   "cell_type": "code",
   "execution_count": null,
   "metadata": {},
   "outputs": [],
   "source": []
  }
 ],
 "metadata": {
  "kernelspec": {
   "display_name": "venvLanggraph",
   "language": "python",
   "name": "python3"
  },
  "language_info": {
   "codemirror_mode": {
    "name": "ipython",
    "version": 3
   },
   "file_extension": ".py",
   "mimetype": "text/x-python",
   "name": "python",
   "nbconvert_exporter": "python",
   "pygments_lexer": "ipython3",
   "version": "3.9.6"
  }
 },
 "nbformat": 4,
 "nbformat_minor": 2
}
