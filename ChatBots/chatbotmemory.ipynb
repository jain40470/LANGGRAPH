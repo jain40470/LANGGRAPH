{
 "cells": [
  {
   "cell_type": "code",
   "execution_count": 2,
   "metadata": {},
   "outputs": [
    {
     "data": {
      "text/plain": [
       "True"
      ]
     },
     "execution_count": 2,
     "metadata": {},
     "output_type": "execute_result"
    }
   ],
   "source": [
    "import os\n",
    "from dotenv import load_dotenv\n",
    "\n",
    "load_dotenv()"
   ]
  },
  {
   "cell_type": "code",
   "execution_count": 3,
   "metadata": {},
   "outputs": [],
   "source": [
    "os.environ[\"GROQ_API_KEY\"] = os.getenv(\"GROQ_API_KEY\")"
   ]
  },
  {
   "cell_type": "code",
   "execution_count": 4,
   "metadata": {},
   "outputs": [
    {
     "data": {
      "text/plain": [
       "ChatGroq(client=<groq.resources.chat.completions.Completions object at 0x109793c70>, async_client=<groq.resources.chat.completions.AsyncCompletions object at 0x1097a8100>, model_name='gemma2-9b-it', model_kwargs={}, groq_api_key=SecretStr('**********'))"
      ]
     },
     "execution_count": 4,
     "metadata": {},
     "output_type": "execute_result"
    }
   ],
   "source": [
    "from langchain_groq import ChatGroq\n",
    "model = ChatGroq(model = \"gemma2-9b-it\")\n",
    "model"
   ]
  },
  {
   "cell_type": "code",
   "execution_count": 5,
   "metadata": {},
   "outputs": [
    {
     "data": {
      "text/plain": [
       "AIMessage(content='Hello! 👋  How can I help you today? 😊\\n', additional_kwargs={}, response_metadata={'token_usage': {'completion_tokens': 15, 'prompt_tokens': 11, 'total_tokens': 26, 'completion_time': 0.027272727, 'prompt_time': 0.001994908, 'queue_time': 0.23299925200000002, 'total_time': 0.029267635}, 'model_name': 'gemma2-9b-it', 'system_fingerprint': 'fp_10c08bf97d', 'finish_reason': 'stop', 'logprobs': None}, id='run-af548fae-ce95-4a39-bc63-97a8e0a5feb2-0', usage_metadata={'input_tokens': 11, 'output_tokens': 15, 'total_tokens': 26})"
      ]
     },
     "execution_count": 5,
     "metadata": {},
     "output_type": "execute_result"
    }
   ],
   "source": [
    "model.invoke(\"Hello\")"
   ]
  },
  {
   "cell_type": "code",
   "execution_count": 6,
   "metadata": {},
   "outputs": [
    {
     "data": {
      "text/plain": [
       "AIMessage(content=\"Hey Akash Jain! It's nice to meet you. 👋\\n\\nI'm glad to have a tech enthusiast like you around. What kind of tech stuff are you into?\\n\\nI'm always learning new things, so I'm excited to hear about your interests and maybe even learn something from you! 😊\\n\", additional_kwargs={}, response_metadata={'token_usage': {'completion_tokens': 68, 'prompt_tokens': 23, 'total_tokens': 91, 'completion_time': 0.123636364, 'prompt_time': 0.002152717, 'queue_time': 0.231687912, 'total_time': 0.125789081}, 'model_name': 'gemma2-9b-it', 'system_fingerprint': 'fp_10c08bf97d', 'finish_reason': 'stop', 'logprobs': None}, id='run-cb949dbb-ac48-403d-b228-296c2510c4b4-0', usage_metadata={'input_tokens': 23, 'output_tokens': 68, 'total_tokens': 91})"
      ]
     },
     "execution_count": 6,
     "metadata": {},
     "output_type": "execute_result"
    }
   ],
   "source": [
    "from langchain_core.messages import HumanMessage\n",
    "\n",
    "model.invoke( [HumanMessage(content = \"Hi I am AKASH JAIN , ur buddy and a tech enthusiast\")] )"
   ]
  },
  {
   "cell_type": "code",
   "execution_count": 7,
   "metadata": {},
   "outputs": [
    {
     "data": {
      "text/plain": [
       "AIMessage(content=\"I know you are **Akash Jain**, a tech enthusiast and an aspiring public speaker!  \\n\\nIt's great to meet you, Akash.  \\n\\nIs there anything else you'd like to tell me about yourself? Maybe your favorite tech gadgets, the kind of topics you enjoy speaking about, or what inspired you to become a public speaker?  \\n\\nI'm always eager to learn more about people and their passions. 😊  \\n\\n\", additional_kwargs={}, response_metadata={'token_usage': {'completion_tokens': 94, 'prompt_tokens': 51, 'total_tokens': 145, 'completion_time': 0.170909091, 'prompt_time': 0.003667045, 'queue_time': 0.230539324, 'total_time': 0.174576136}, 'model_name': 'gemma2-9b-it', 'system_fingerprint': 'fp_10c08bf97d', 'finish_reason': 'stop', 'logprobs': None}, id='run-17fb0965-70a1-45ab-bd02-f5fadf2e1676-0', usage_metadata={'input_tokens': 51, 'output_tokens': 94, 'total_tokens': 145})"
      ]
     },
     "execution_count": 7,
     "metadata": {},
     "output_type": "execute_result"
    }
   ],
   "source": [
    "from langchain_core.messages import AIMessage\n",
    "\n",
    "model.invoke(\n",
    "\n",
    "    [\n",
    "        HumanMessage(content = \"Hi , I am AKASH JAIN , a tech enthusiast and an aspiring public speaker\" ),\n",
    "        AIMessage( content = \" Hey nice to meet you\" ),\n",
    "        HumanMessage(content= \" Hey what is my name and tell me about me\")\n",
    "    ]\n",
    "\n",
    ")\n",
    "\n"
   ]
  },
  {
   "cell_type": "markdown",
   "metadata": {},
   "source": [
    "# MEMORY HISTORY "
   ]
  },
  {
   "cell_type": "code",
   "execution_count": 8,
   "metadata": {},
   "outputs": [],
   "source": [
    "from langchain_community.chat_message_histories import ChatMessageHistory\n",
    "from langchain_core.chat_history import BaseChatMessageHistory\n",
    "from langchain_core.runnables.history import RunnableWithMessageHistory\n"
   ]
  },
  {
   "cell_type": "code",
   "execution_count": 9,
   "metadata": {},
   "outputs": [],
   "source": [
    "\n",
    "store = {}\n",
    "\n",
    "def get_session_history(session_id : str) -> BaseChatMessageHistory:\n",
    "\n",
    "    if session_id not in store:\n",
    "\n",
    "        store[session_id] = ChatMessageHistory() # store messages in-memory(RAM) list , we can use database but now in persistent storage\n",
    "\n",
    "    return store[session_id]\n",
    "\n"
   ]
  },
  {
   "cell_type": "code",
   "execution_count": 12,
   "metadata": {},
   "outputs": [
    {
     "data": {
      "text/plain": [
       "RunnableWithMessageHistory(bound=RunnableBinding(bound=RunnableBinding(bound=RunnableLambda(_enter_history), kwargs={}, config={'run_name': 'load_history'}, config_factories=[])\n",
       "| RunnableBinding(bound=RunnableLambda(_call_runnable_sync), kwargs={}, config={'run_name': 'check_sync_or_async'}, config_factories=[]), kwargs={}, config={'run_name': 'RunnableWithMessageHistory'}, config_factories=[]), kwargs={}, config={}, config_factories=[], get_session_history=<function get_session_history at 0x1097f08b0>, history_factory_config=[ConfigurableFieldSpec(id='session_id', annotation=<class 'str'>, name='Session ID', description='Unique identifier for a session.', default='', is_shared=True, dependencies=None)])"
      ]
     },
     "execution_count": 12,
     "metadata": {},
     "output_type": "execute_result"
    }
   ],
   "source": [
    "model_with_message_history = RunnableWithMessageHistory(model , get_session_history)\n",
    "model_with_message_history"
   ]
  },
  {
   "cell_type": "code",
   "execution_count": 14,
   "metadata": {},
   "outputs": [
    {
     "data": {
      "text/plain": [
       "AIMessage(content=\"Hi Akash Jain! \\n\\nIt's great to meet you. That's awesome that you're a tech enthusiast and aspiring public speaker.  \\n\\nWhat kind of tech are you most passionate about? And what topics do you enjoy speaking about?  \\n\\nI'm happy to chat more about either of those things, or anything else you'd like to discuss.\\n\", additional_kwargs={}, response_metadata={'token_usage': {'completion_tokens': 80, 'prompt_tokens': 26, 'total_tokens': 106, 'completion_time': 0.145454545, 'prompt_time': 0.002137616, 'queue_time': 0.231247873, 'total_time': 0.147592161}, 'model_name': 'gemma2-9b-it', 'system_fingerprint': 'fp_10c08bf97d', 'finish_reason': 'stop', 'logprobs': None}, id='run-adbecc3f-2269-4d5d-b0a9-ddcf16033aef-0', usage_metadata={'input_tokens': 26, 'output_tokens': 80, 'total_tokens': 106})"
      ]
     },
     "execution_count": 14,
     "metadata": {},
     "output_type": "execute_result"
    }
   ],
   "source": [
    "config = {\n",
    "    \"configurable\" : { \"session_id\" : \"Akash\" }\n",
    "}\n",
    "\n",
    "response = model_with_message_history.invoke(\n",
    "    [\n",
    "        HumanMessage(content = \"Hi , I am AKASH JAIN , a tech enthusiast and an aspiring public speaker\" )\n",
    "    ],\n",
    "    config=config\n",
    ")\n",
    "\n",
    "response\n"
   ]
  },
  {
   "cell_type": "code",
   "execution_count": 15,
   "metadata": {},
   "outputs": [
    {
     "data": {
      "text/plain": [
       "AIMessage(content='Your name is Akash Jain.  😊 \\n\\nI remember that from our introduction!  Is there anything else I can help you with?\\n', additional_kwargs={}, response_metadata={'token_usage': {'completion_tokens': 32, 'prompt_tokens': 120, 'total_tokens': 152, 'completion_time': 0.058181818, 'prompt_time': 0.00539579, 'queue_time': 0.232112828, 'total_time': 0.063577608}, 'model_name': 'gemma2-9b-it', 'system_fingerprint': 'fp_10c08bf97d', 'finish_reason': 'stop', 'logprobs': None}, id='run-dd1eefff-ff61-4eac-8c26-ac50b6fd2299-0', usage_metadata={'input_tokens': 120, 'output_tokens': 32, 'total_tokens': 152})"
      ]
     },
     "execution_count": 15,
     "metadata": {},
     "output_type": "execute_result"
    }
   ],
   "source": [
    "response = model_with_message_history.invoke(\n",
    "    [\n",
    "        HumanMessage(content = \"Hi , what is my name\" )\n",
    "    ],\n",
    "    config=config\n",
    ")\n",
    "\n",
    "response\n",
    "\n",
    "# hey now history is saved."
   ]
  },
  {
   "cell_type": "code",
   "execution_count": 16,
   "metadata": {},
   "outputs": [
    {
     "data": {
      "text/plain": [
       "InMemoryChatMessageHistory(messages=[HumanMessage(content='Hi , I am AKASH JAIN , a tech enthusiast and an aspiring public speaker', additional_kwargs={}, response_metadata={}), AIMessage(content=\"Hi Akash Jain! \\n\\nIt's great to meet you. That's awesome that you're a tech enthusiast and aspiring public speaker.  \\n\\nWhat kind of tech are you most passionate about? And what topics do you enjoy speaking about?  \\n\\nI'm happy to chat more about either of those things, or anything else you'd like to discuss.\\n\", additional_kwargs={}, response_metadata={'token_usage': {'completion_tokens': 80, 'prompt_tokens': 26, 'total_tokens': 106, 'completion_time': 0.145454545, 'prompt_time': 0.002137616, 'queue_time': 0.231247873, 'total_time': 0.147592161}, 'model_name': 'gemma2-9b-it', 'system_fingerprint': 'fp_10c08bf97d', 'finish_reason': 'stop', 'logprobs': None}, id='run-adbecc3f-2269-4d5d-b0a9-ddcf16033aef-0', usage_metadata={'input_tokens': 26, 'output_tokens': 80, 'total_tokens': 106}), HumanMessage(content='Hi , what is my name', additional_kwargs={}, response_metadata={}), AIMessage(content='Your name is Akash Jain.  😊 \\n\\nI remember that from our introduction!  Is there anything else I can help you with?\\n', additional_kwargs={}, response_metadata={'token_usage': {'completion_tokens': 32, 'prompt_tokens': 120, 'total_tokens': 152, 'completion_time': 0.058181818, 'prompt_time': 0.00539579, 'queue_time': 0.232112828, 'total_time': 0.063577608}, 'model_name': 'gemma2-9b-it', 'system_fingerprint': 'fp_10c08bf97d', 'finish_reason': 'stop', 'logprobs': None}, id='run-dd1eefff-ff61-4eac-8c26-ac50b6fd2299-0', usage_metadata={'input_tokens': 120, 'output_tokens': 32, 'total_tokens': 152})])"
      ]
     },
     "execution_count": 16,
     "metadata": {},
     "output_type": "execute_result"
    }
   ],
   "source": [
    "get_session_history(\"Akash\")"
   ]
  },
  {
   "cell_type": "code",
   "execution_count": 17,
   "metadata": {},
   "outputs": [
    {
     "data": {
      "text/plain": [
       "InMemoryChatMessageHistory(messages=[HumanMessage(content='Hi , I am AKASH JAIN , a tech enthusiast and an aspiring public speaker', additional_kwargs={}, response_metadata={}), AIMessage(content=\"Hello Akash Jain!  \\n\\nIt's great to meet you. That's a fantastic combination - being a tech enthusiast and an aspiring public speaker.  \\n\\nWhat kind of tech are you most passionate about? And what are you hoping to speak about publicly? \\n\\nI'm always happy to chat with people who share my love for technology and communication. 😊  \\n\\n\", additional_kwargs={}, response_metadata={'token_usage': {'completion_tokens': 80, 'prompt_tokens': 26, 'total_tokens': 106, 'completion_time': 0.145454545, 'prompt_time': 0.002120496, 'queue_time': 0.231605334, 'total_time': 0.147575041}, 'model_name': 'gemma2-9b-it', 'system_fingerprint': 'fp_10c08bf97d', 'finish_reason': 'stop', 'logprobs': None}, id='run-cb4195e8-c136-4b10-839d-3210b37a267f-0', usage_metadata={'input_tokens': 26, 'output_tokens': 80, 'total_tokens': 106})])"
      ]
     },
     "execution_count": 17,
     "metadata": {},
     "output_type": "execute_result"
    }
   ],
   "source": [
    "config2 = {\n",
    "    \"configurable\" : { \"session_id\" : \"AkashJ\" }\n",
    "}\n",
    "# here u can create another\n",
    "\n",
    "response = model_with_message_history.invoke(\n",
    "    [\n",
    "        HumanMessage(content = \"Hi , I am AKASH JAIN , a tech enthusiast and an aspiring public speaker\" )\n",
    "    ],\n",
    "    config=config2\n",
    ")\n",
    "\n",
    "get_session_history(\"AkashJ\") # RETURN ALL THE chats"
   ]
  },
  {
   "cell_type": "markdown",
   "metadata": {},
   "source": [
    "MESSAGE PLACEHOLDER ? "
   ]
  },
  {
   "cell_type": "code",
   "execution_count": null,
   "metadata": {},
   "outputs": [],
   "source": []
  }
 ],
 "metadata": {
  "kernelspec": {
   "display_name": "venvLanggraph",
   "language": "python",
   "name": "python3"
  },
  "language_info": {
   "codemirror_mode": {
    "name": "ipython",
    "version": 3
   },
   "file_extension": ".py",
   "mimetype": "text/x-python",
   "name": "python",
   "nbconvert_exporter": "python",
   "pygments_lexer": "ipython3",
   "version": "3.9.6"
  }
 },
 "nbformat": 4,
 "nbformat_minor": 2
}
