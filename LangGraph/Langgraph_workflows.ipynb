{
 "cells": [
  {
   "cell_type": "code",
   "execution_count": 2,
   "metadata": {},
   "outputs": [],
   "source": [
    "import warnings\n",
    "\n",
    "warnings.filterwarnings(\"ignore\")"
   ]
  },
  {
   "cell_type": "code",
   "execution_count": 3,
   "metadata": {},
   "outputs": [],
   "source": [
    "import os\n",
    "\n",
    "from dotenv import load_dotenv\n",
    "\n",
    "load_dotenv()\n",
    "\n",
    "\n",
    "GROQ_API_KEY  = os.getenv(\"GROQ_API_KEY\")\n",
    "os.environ[\"GROQ_API_KEY\"] = GROQ_API_KEY"
   ]
  },
  {
   "cell_type": "markdown",
   "metadata": {},
   "source": [
    "concept of pydantic , (multilevel check in runtme) ?? pls do it also"
   ]
  },
  {
   "cell_type": "code",
   "execution_count": 4,
   "metadata": {},
   "outputs": [],
   "source": [
    "from langchain_groq import ChatGroq\n",
    "\n",
    "llm = ChatGroq(model=\"Gemma2-9b-It\")"
   ]
  },
  {
   "cell_type": "code",
   "execution_count": 5,
   "metadata": {},
   "outputs": [],
   "source": [
    "from typing_extensions import TypedDict\n",
    "from langgraph.graph import StateGraph , START , END\n",
    "\n",
    "from IPython.display import Image , display"
   ]
  },
  {
   "cell_type": "code",
   "execution_count": 6,
   "metadata": {},
   "outputs": [],
   "source": [
    "class State(TypedDict):\n",
    "    topic : str\n",
    "    joke : str\n",
    "    improved_joke : str\n",
    "    final_joke : str"
   ]
  },
  {
   "cell_type": "code",
   "execution_count": 7,
   "metadata": {},
   "outputs": [],
   "source": [
    "def generate_joke(state):\n",
    "\n",
    "    \"\"\" First LLM Call to generate Jokes \"\"\"\n",
    "\n",
    "    response = llm.invoke(f\"Write a short joke about { state['topic'] }\")\n",
    "\n",
    "    return {\"joke\" : response.content}"
   ]
  },
  {
   "cell_type": "code",
   "execution_count": 8,
   "metadata": {},
   "outputs": [],
   "source": [
    "def check_punchline(state):\n",
    "\n",
    "    \"\"\" Gate Function to check if the joke has a punchline or not \"\"\"\n",
    "\n",
    "    if \"?\" in state['joke'] or \"!\" in state['joke'] :\n",
    "        return \"Fail\"\n",
    "    \n",
    "    return \"Pass\""
   ]
  },
  {
   "cell_type": "code",
   "execution_count": 9,
   "metadata": {},
   "outputs": [],
   "source": [
    "def improve_joke(state):\n",
    "\n",
    "    \"\"\" Second LLM CALL to improve the joke \"\"\"\n",
    "\n",
    "    response = llm.invoke(f\" Make this joke funnier by adding wordplay : {state['joke']} \")\n",
    "\n",
    "    return { \"improved_joke\" : response.content}\n"
   ]
  },
  {
   "cell_type": "code",
   "execution_count": 10,
   "metadata": {},
   "outputs": [],
   "source": [
    "def polish_joke(state):\n",
    "\n",
    "    \"\"\" Third LLM CALL to polish the joke \"\"\"\n",
    "\n",
    "    response = llm.invoke(f\" Add a surprising twist to this joke : {state['improved_joke']} \")\n",
    "\n",
    "    return { \"final_joke\" : response.content}\n"
   ]
  },
  {
   "cell_type": "code",
   "execution_count": 11,
   "metadata": {},
   "outputs": [],
   "source": [
    "graph_builder = StateGraph(State)\n",
    "\n",
    "graph_builder.add_node( \"generate_joke\"  , generate_joke)\n",
    "graph_builder.add_node( \"improve_joke\"  , improve_joke)\n",
    "graph_builder.add_node( \"polish_joke\"  , polish_joke)\n",
    "\n",
    "graph_builder.add_edge(START , \"generate_joke\")\n",
    "graph_builder.add_conditional_edges(\n",
    "    \"generate_joke\" ,\n",
    "    check_punchline,\n",
    "    {\"Fail\" : \"improve_joke\" , \"Pass\" : END }\n",
    ")\n",
    "graph_builder.add_edge( \"improve_joke\" , \"polish_joke\" )\n",
    "graph_builder.add_edge(\"polish_joke\" , END)\n",
    "\n",
    "graph = graph_builder.compile()"
   ]
  },
  {
   "cell_type": "code",
   "execution_count": 12,
   "metadata": {},
   "outputs": [
    {
     "data": {
      "image/png": "[encoded data removed]",
      "text/plain": [
       "<IPython.core.display.Image object>"
      ]
     },
     "metadata": {},
     "output_type": "display_data"
    }
   ],
   "source": [
    "display(\n",
    "    Image(   \n",
    "        graph.get_graph().draw_mermaid_png()\n",
    "    )\n",
    ")"
   ]
  },
  {
   "cell_type": "code",
   "execution_count": 13,
   "metadata": {},
   "outputs": [],
   "source": [
    "state = graph.invoke({ \"topic\" : \"Apple\"})"
   ]
  },
  {
   "cell_type": "code",
   "execution_count": 14,
   "metadata": {},
   "outputs": [
    {
     "data": {
      "text/plain": [
       "{'topic': 'Apple',\n",
       " 'joke': 'Why did the iPhone go to the doctor? \\n\\nBecause it had a cracked screen!  \\n',\n",
       " 'improved_joke': \"Why did the iPhone go to the doctor? \\n\\nBecause it had a **screen** problem, and it was feeling **app**-alling! \\n\\n\\nLet me know if you'd like to try another joke! 😊 \\n\",\n",
       " 'final_joke': 'Here\\'s a twist:\\n\\nWhy did the iPhone go to the doctor? \\n\\nBecause it had a **screen** problem, and it was feeling **app**-alling!  \\n\\n*Turns to the doctor and whispers* \"But seriously, it\\'s just a glitch... I think it might be a **carrier pigeon** issue.\" \\n\\n\\nLet me know if you want to try another one! 😊 \\n'}"
      ]
     },
     "execution_count": 14,
     "metadata": {},
     "output_type": "execute_result"
    }
   ],
   "source": [
    "state"
   ]
  },
  {
   "cell_type": "code",
   "execution_count": 15,
   "metadata": {},
   "outputs": [
    {
     "name": "stdout",
     "output_type": "stream",
     "text": [
      "dict_keys(['topic', 'joke', 'improved_joke', 'final_joke'])\n",
      "Here's a twist:\n",
      "\n",
      "Why did the iPhone go to the doctor? \n",
      "\n",
      "Because it had a **screen** problem, and it was feeling **app**-alling!  \n",
      "\n",
      "*Turns to the doctor and whispers* \"But seriously, it's just a glitch... I think it might be a **carrier pigeon** issue.\" \n",
      "\n",
      "\n",
      "Let me know if you want to try another one! 😊 \n",
      "\n"
     ]
    }
   ],
   "source": [
    "print(state.keys())\n",
    "print(state['final_joke'])"
   ]
  },
  {
   "cell_type": "markdown",
   "metadata": {},
   "source": [
    "# ASSIGNMENT \n",
    "\n",
    "code peer review \n",
    "\n",
    "coder -> peer (review) -> Manager (doc string final)\n",
    "\n",
    "code -> review -> generate test cases -> run the test cases -> analyze the failed test cases -> give summary"
   ]
  },
  {
   "cell_type": "code",
   "execution_count": 16,
   "metadata": {},
   "outputs": [],
   "source": [
    "# pls do the assignment "
   ]
  },
  {
   "cell_type": "markdown",
   "metadata": {},
   "source": [
    "# PARALLELIZATION"
   ]
  },
  {
   "cell_type": "markdown",
   "metadata": {},
   "source": [
    "With parallelization , LLM works simultaneously on a task.\n",
    "\n",
    "LLMs can sometimes work simultanously on a task and have their outputs aggregated programmatically.\n",
    "This worklow parallization manifests in two key variations:\n",
    "\n",
    "Sectioning : Breaking a task into two independant subtasks run in parallel.\n",
    "\n",
    "Voting : Running the same task multiple times to get diverse output.\n",
    "\n",
    "\n"
   ]
  },
  {
   "cell_type": "code",
   "execution_count": 17,
   "metadata": {},
   "outputs": [],
   "source": [
    "class State(TypedDict):\n",
    "\n",
    "    topic : str\n",
    "    joke : str\n",
    "    poem : str\n",
    "    story : str\n",
    "    content : str"
   ]
  },
  {
   "cell_type": "code",
   "execution_count": 18,
   "metadata": {},
   "outputs": [],
   "source": [
    "def call_for_joke(state : State):\n",
    "    \n",
    "    \"\"\"LLM call for joke \"\"\"\n",
    "\n",
    "    response = llm.invoke( f\" Write a joke about {state['topic']} \" )\n",
    "\n",
    "    return { \"joke\" : response.content }\n",
    "\n",
    "def call_for_poem(state : State):\n",
    "    \n",
    "    \"\"\"LLM call for poem \"\"\"\n",
    "\n",
    "    response = llm.invoke( f\" Write a poem about {state['topic']} \" )\n",
    "\n",
    "    return { \"poem\" : response.content }\n",
    "\n",
    "def call_for_story(state : State):\n",
    "    \n",
    "    \"\"\"LLM call for story \"\"\"\n",
    "\n",
    "    response = llm.invoke( f\" Write a story about {state['topic']} \" )\n",
    "\n",
    "    return { \"story\" : response.content }"
   ]
  },
  {
   "cell_type": "code",
   "execution_count": 19,
   "metadata": {},
   "outputs": [],
   "source": [
    "def aggregator(state):\n",
    "\n",
    "    \"\"\" LLM call for combining poem , joke , story \"\"\"\n",
    "    \n",
    "    response = llm.invoke(\n",
    "\n",
    "        f\" I am providing with you story , poem and joke related to {state['topic']} , pls combiend all into to form a content .Here is the deatils Story : {state['story']} , Poem : {state['poem']} and Joke : {state['joke']}\"\n",
    "\n",
    "    )\n",
    "    \n",
    "    return { \"content\" : response.content }"
   ]
  },
  {
   "cell_type": "code",
   "execution_count": 20,
   "metadata": {},
   "outputs": [],
   "source": [
    "graph_builder = StateGraph(State)\n",
    "\n",
    "graph_builder.add_node( \"call_for_joke\" , call_for_joke )\n",
    "graph_builder.add_node( \"call_for_poem\" , call_for_poem )\n",
    "graph_builder.add_node( \"call_for_story\" , call_for_story )\n",
    "graph_builder.add_node(\"aggregator\" , aggregator)\n",
    "\n",
    "graph_builder.add_edge(START , \"call_for_joke\")\n",
    "graph_builder.add_edge(START , \"call_for_poem\")\n",
    "graph_builder.add_edge(START , \"call_for_story\")\n",
    "graph_builder.add_edge(\"call_for_joke\" , \"aggregator\")\n",
    "graph_builder.add_edge(\"call_for_poem\" , \"aggregator\")\n",
    "graph_builder.add_edge(\"call_for_story\" , \"aggregator\")\n",
    "graph_builder.add_edge(\"aggregator\" , END)\n",
    "\n",
    "graph = graph_builder.compile()"
   ]
  },
  {
   "cell_type": "code",
   "execution_count": 21,
   "metadata": {},
   "outputs": [],
   "source": [
    "# display(\n",
    "#     Image(graph.get_graph().draw_mermaid_png())\n",
    "# )"
   ]
  },
  {
   "cell_type": "code",
   "execution_count": 22,
   "metadata": {},
   "outputs": [],
   "source": [
    "state = graph.invoke( {\"topic\" : \"Jaguar\"} )"
   ]
  },
  {
   "cell_type": "code",
   "execution_count": 23,
   "metadata": {},
   "outputs": [
    {
     "name": "stdout",
     "output_type": "stream",
     "text": [
      "dict_keys(['topic', 'joke', 'poem', 'story', 'content'])\n"
     ]
    }
   ],
   "source": [
    "print(state.keys())"
   ]
  },
  {
   "cell_type": "code",
   "execution_count": 24,
   "metadata": {},
   "outputs": [
    {
     "data": {
      "text/plain": [
       "{'topic': 'Jaguar',\n",
       " 'joke': 'Why did the Jaguar cross the road? \\n\\nTo prove to the chicken it could be done without roaring! 🚗😹 \\n',\n",
       " 'poem': \"A velvet shadow, sleek and low,\\nThe jaguar moves, a silent flow.\\nThrough emerald leaves, a golden gaze,\\nA hunter's instinct, ancient ways.\\n\\nSpotted coat, a dappled dream,\\nA phantom dancer, swift and keen.\\nMuscles coiled, a powerful spring,\\nA burst of speed, on feathered wing.\\n\\nThe jungle breathes, a humid sigh,\\nAs watchful eyes scan from on high.\\nA rustle heard, a tremor slight,\\nThe jaguar pounces, in the night.\\n\\nWith silent grace, a lethal bite,\\nA primal power, fierce and bright.\\nThe king of beasts, in jungle's hold,\\nA story whispered, ages old. \\n\\nFrom sun-drenched plains to river's flow,\\nThe jaguar's spirit, wild and slow.\\nA symbol etched, in legend's lore,\\nA creature born, to evermore. \\n\\n\\n\",\n",
       " 'story': \"The jaguar, named Inti by the villagers, was a creature of legend. His coat, the color of burnt umber, shimmered like liquid gold in the dappled sunlight that filtered through the Amazonian canopy. He moved with a silent grace, a phantom amongst the emerald leaves, a king in his emerald domain.\\n\\nInti was solitary, his territory vast and wild. He hunted alone, his powerful muscles rippling as he stalked his prey. But even in his solitude, he was not unloved. The villagers, who lived on the fringes of his domain, told stories of his strength and cunning, his fierce loyalty to his kind, and the way he protected them from other, more dangerous predators. They left offerings of fruit and fish at the edge of his territory, a silent pact of respect between man and beast.\\n\\nOne day, a new scent drifted on the wind, a scent of fear and desperation. It belonged to a young jaguar, a female named Luna, who had been separated from her mother during a violent storm. She was lost and alone, vulnerable in the vast wilderness. Inti, though typically reclusive, felt a pang of empathy. He tracked the scent, his powerful legs carrying him swiftly through the dense undergrowth. He found Luna cowering in a thicket, her eyes wide with terror.\\n\\nInti approached her cautiously, his growl a rumble in his chest. Luna flinched, expecting an attack. But Inti lowered his head, offering her a gentle nudge with his nose. He led her to a safe clearing, a hidden oasis within his territory, and stayed with her, his presence a comforting shield against the dangers of the forest.\\n\\nOver the next few weeks, Inti taught Luna the ways of the jaguar, how to hunt, how to navigate the treacherous terrain, how to survive. Luna, in turn, brought a spark of joy to Inti's solitary life. He found himself looking forward to their hunts, to their playful sparring, to the quiet companionship they shared.\\n\\nOne evening, as the sun dipped below the horizon, casting long shadows across the clearing, Inti felt a shift in the air. Luna, who had been playing with a fallen branch, stopped abruptly, her ears pricked, her nostrils flared. The scent of danger, a pack of wild dogs, lingered in the air.\\n\\nInti stood protectively in front of Luna, his muscles tense, his amber eyes glowing in the fading light. He roared, a sound that echoed through the forest, a challenge to any who dared approach. The wild dogs hesitated, sensing the jaguar's power and ferocity. In that moment, Inti knew that his role had changed. He was no longer just a solitary king, but a protector, a guardian, a father figure to the young jaguar who had become his family.  \\n\\n\\nThe wild dogs, sensing defeat, slunk away, leaving Inti and Luna safe in the clearing. As the moon rose, casting its silvery light on the rainforest, Inti nuzzled Luna, a silent promise of protection, a testament to the bond that had formed between them, a bond forged in the heart of the wild.  \\n\",\n",
       " 'content': '##  The Jaguar: A Story of Power, Protection, and Playfulness \\n\\nThe jaguar, a creature of legend, embodies strength, grace, and a deep connection to the wild.  \\n\\n**A King in Emerald Domains**\\n\\nIn the heart of the Amazon, a jaguar named Inti roamed. His coat, the color of burnt umber, shimmered like liquid gold in the dappled sunlight. He moved with silent grace, a phantom amongst the emerald leaves, a king in his emerald domain. Inti was solitary, his territory vast and wild, but the villagers who lived on the fringes of his domain revered him. They told stories of his strength and cunning, his fierce loyalty to his kind, and the way he protected them from other predators. Offerings of fruit and fish were left at the edge of his territory, a silent pact of respect between man and beast. \\n\\n*(Imagine Inti, as described in the poem, moving through the dense jungle:* \"A velvet shadow, sleek and low, / The jaguar moves, a silent flow.\")\\n\\n**A Bond Forged in the Wild**\\n\\nOne day, a new scent drifted on the wind - a scent of fear and desperation belonging to a young jaguar named Luna, separated from her mother during a violent storm. Inti, though typically reclusive, felt a pang of empathy. He tracked Luna\\'s scent, his powerful legs carrying him swiftly through the dense undergrowth. He found her cowering in a thicket, her eyes wide with terror.\\n\\nInti approached her cautiously, his growl a rumble in his chest. Luna flinched, expecting an attack. But Inti lowered his head, offering her a gentle nudge with his nose. He led her to a safe clearing and stayed with her, his presence a comforting shield against the dangers of the forest.\\n\\nOver the next few weeks, Inti taught Luna the ways of the jaguar, how to hunt, navigate the treacherous terrain, and survive. Luna, in turn, brought a spark of joy to Inti\\'s solitary life. He found himself looking forward to their hunts, their playful sparring, and the quiet companionship they shared.\\n\\n*(Reflect on the poem\\'s lines about the jaguar\\'s hunting prowess:* \"Spotted coat, a dappled dream, / A phantom dancer, swift and keen.\")\\n\\n**A Guardian\\'s Heart**\\n\\nOne evening, as the sun dipped below the horizon, Inti sensed danger. The scent of a pack of wild dogs lingered in the air. Inti stood protectively in front of Luna, his muscles tense, his amber eyes glowing in the fading light. He roared, a sound that echoed through the forest, a challenge to any who dared approach. The wild dogs hesitated, sensing the jaguar\\'s power and ferocity. In that moment, Inti knew his role had changed. He was no longer just a solitary king, but a protector, a guardian, a father figure to the young jaguar who had become his family. \\n\\n\\nThe wild dogs, sensing defeat, slunk away, leaving Inti and Luna safe in the clearing. As the moon rose, casting its silvery light on the rainforest, Inti nuzzled Luna, a silent promise of protection, a testament to the bond they shared.\\n\\n *(Remember the poem\\'s ending, highlighting the jaguar\\'s enduring spirit:* \"A creature born, to evermore.\")\\n\\n**A Touch of Humor**\\n\\nAnd why did the jaguar cross the road? To prove to the chicken it could be done without roaring! 🚗😹 \\n\\n\\n\\nLet this story, poem, and joke remind us of the power, grace, and enduring spirit of the jaguar.  \\n'}"
      ]
     },
     "execution_count": 24,
     "metadata": {},
     "output_type": "execute_result"
    }
   ],
   "source": [
    "state"
   ]
  },
  {
   "cell_type": "markdown",
   "metadata": {},
   "source": [
    "# ROUTING"
   ]
  },
  {
   "cell_type": "markdown",
   "metadata": {},
   "source": [
    "Routing classifies an input and directs it to a specialized followup task. This workflow allows for \n",
    "seperation of concerns , and building more specialized prompts . Without this workflow , optimizing \n",
    "for one kind of input can hurt performance on other inputs.\n",
    "\n",
    "When to use this workflow : Routing works well for complex tasks where there are distinct categories that\n",
    "are better handled seperately , and where classification can be handled accurately either by LLM or more traditional classification model / algorithm "
   ]
  },
  {
   "cell_type": "markdown",
   "metadata": {},
   "source": [
    "eg : let say you have to route mail to the tech team , support team or marketing team."
   ]
  },
  {
   "cell_type": "code",
   "execution_count": 25,
   "metadata": {},
   "outputs": [],
   "source": [
    "from typing_extensions import Literal\n",
    "from pydantic import BaseModel , Field\n",
    "from langchain_core.messages import HumanMessage , SystemMessage\n",
    "\n",
    "#schema for structured output to use as a routing logic\n",
    "class Route(BaseModel):\n",
    "    step : Literal[\"pome\" , \"story\" , \"joke\"] = Field(\n",
    "        default = None , description = \"The next step in the routing process\"\n",
    "    )\n",
    "\n",
    "# Augment the llm with schema for structured output\n",
    "router = llm.with_structured_output(Route)\n",
    "\n",
    "# State\n",
    "class State(TypedDict):\n",
    "    input : str\n",
    "    decision : str\n",
    "    output : str\n",
    "\n",
    "# Nodes\n",
    "def llm_call_story(state : State):\n",
    "    \"Write a story\" \n",
    "    result = llm.invoke(state[\"input\"])\n",
    "    return { \"output\" : result.content }\n",
    "\n",
    "def llm_call_joke(state : State):\n",
    "    \"Write a joke\" \n",
    "    result = llm.invoke(state[\"input\"])\n",
    "    return { \"output\" : result.content }\n",
    "\n",
    "def llm_call_poem(state : State):\n",
    "    \"Write a poem\" \n",
    "    result = llm.invoke(state[\"input\"])\n",
    "    return { \"output\" : result.content }\n"
   ]
  },
  {
   "cell_type": "code",
   "execution_count": 26,
   "metadata": {},
   "outputs": [],
   "source": [
    "def llm_call_router(state : State):\n",
    "    \"Route the input to the apprpriate node\"\n",
    "\n",
    "    decision = router.invoke(\n",
    "        [\n",
    "            SystemMessage(\n",
    "                content = \"Route the input to story,joke , or poem based on the user's request\"\n",
    "            ),\n",
    "            HumanMessage(content=state[\"input\"])\n",
    "        ]\n",
    "    )\n",
    "\n",
    "    return {\"decision\" : decision.step}\n"
   ]
  },
  {
   "cell_type": "code",
   "execution_count": 27,
   "metadata": {},
   "outputs": [],
   "source": [
    "# Conditional edge function route to the appropriate node\n",
    "def route_decision(state : State):\n",
    "    \"Return the node name you want to visit next\"\n",
    "    if state[\"decision\"] == \"story\":\n",
    "        return \"llm_call_story\"\n",
    "    elif state[\"decision\"] == \"poem\":\n",
    "        return \"llm_call_poem\"\n",
    "    else:\n",
    "        return \"llm_call_joke\""
   ]
  },
  {
   "cell_type": "code",
   "execution_count": 28,
   "metadata": {},
   "outputs": [
    {
     "data": {
      "text/plain": [
       "<langgraph.graph.state.StateGraph at 0x11f90f970>"
      ]
     },
     "execution_count": 28,
     "metadata": {},
     "output_type": "execute_result"
    }
   ],
   "source": [
    "router_builder = StateGraph(State)\n",
    "\n",
    "router_builder.add_node(\"llm_call_joke\" , llm_call_joke)\n",
    "router_builder.add_node(\"llm_call_story\" , llm_call_story)\n",
    "router_builder.add_node(\"llm_call_poem\" , llm_call_poem)\n",
    "router_builder.add_node(\"llm_call_router\" , llm_call_router)\n",
    "\n",
    "router_builder.add_edge(START , \"llm_call_router\")\n",
    "router_builder.add_conditional_edges(\n",
    "    \"llm_call_router\",route_decision,\n",
    "    {\n",
    "        # Name returned by route decision : name of next node to visit\n",
    "        \"llm_call_story\" : \"llm_call_story\" ,\n",
    "        \"llm_call_poem\" : \"llm_call_poem\" ,\n",
    "        \"llm_call_joke\" : \"llm_call_joke\"\n",
    "    }\n",
    ")\n",
    "\n",
    "router_builder.add_edge(\"llm_call_joke\" , END)\n",
    "router_builder.add_edge(\"llm_call_poem\" , END)\n",
    "router_builder.add_edge(\"llm_call_story\" , END)"
   ]
  },
  {
   "cell_type": "code",
   "execution_count": 29,
   "metadata": {},
   "outputs": [],
   "source": [
    "router_graph = router_builder.compile()"
   ]
  },
  {
   "cell_type": "code",
   "execution_count": 30,
   "metadata": {},
   "outputs": [],
   "source": [
    "# display(\n",
    "#     Image(router_graph.get_graph().draw_mermaid_png())\n",
    "# )"
   ]
  },
  {
   "cell_type": "code",
   "execution_count": 31,
   "metadata": {},
   "outputs": [
    {
     "name": "stdout",
     "output_type": "stream",
     "text": [
      "Why don't cats play poker in the jungle? \n",
      "\n",
      "Too many cheetahs!  😹 \n",
      "\n"
     ]
    }
   ],
   "source": [
    "state = router_graph.invoke({\"input\" : \"Write a joke about cats\"})\n",
    "print(state[\"output\"])"
   ]
  },
  {
   "cell_type": "markdown",
   "metadata": {},
   "source": [
    "# Orchestrator - Worker\n",
    "\n",
    "In the orchestrator-worker's workflow , a central LLM dynamically breaks down tasks , delegates them to worker LLMS , and synthesize their results.\n",
    "\n",
    "When to use this workflow : This workflow is well suited for complex tasks where you can't predict the subtasks needed.\n",
    "(in coding , for example the number of files that need to be changed and the nature of change in each file likely depend on the task). Where it's topographically similar , the key differences from parallelization is its flexibility-subtasks are not predefined , but determined by orchestrator based on the specifi input.\n",
    "\n",
    "orchestrator (break down the task into subtask )-> subtask -> Synthesizer (combine all the task)"
   ]
  },
  {
   "cell_type": "code",
   "execution_count": 32,
   "metadata": {},
   "outputs": [],
   "source": [
    "from typing import Annotated , List\n",
    "import operator\n",
    "\n",
    "class Section(BaseModel):\n",
    "    name : str = Field(\n",
    "        description=\"Name for this section of the report\"\n",
    "    )\n",
    "    description : str = Field(\n",
    "        description=\"Brief overview of the main topics and concepts to be covered in this section\"\n",
    "    )\n",
    "\n",
    "class Sections(BaseModel):\n",
    "    sections : List[Section] = Field(\n",
    "        description=\"Sections of the report\"\n",
    "    )\n",
    "\n",
    "planner = llm.with_structured_output(Sections)"
   ]
  },
  {
   "cell_type": "markdown",
   "metadata": {},
   "source": [
    "# Creating Workers in LangGraph\n",
    "\n",
    "Because Orchestrator-worker workflows are common , LangGraph has the SEND Api to support this. It lets you dynamically \n",
    "create worker nodes and send each one a specific input . Each worker has its own state , and all workers output are written to a shared state key that is accessible to the orchestrator graph . This gives the orchestrator access to all \n",
    "worker output and allows it to synthesize them into a final output.As you can see below , we iterate over a list of sections and send each to a Worker node."
   ]
  },
  {
   "cell_type": "code",
   "execution_count": 33,
   "metadata": {},
   "outputs": [],
   "source": [
    "from langgraph.constants import Send\n",
    "\n",
    "# Graph state \n",
    "class State(TypedDict):\n",
    "    topic : str # Report topic\n",
    "    sections : list[Section] # List of report sections\n",
    "    completed_sections : Annotated[\n",
    "        list , operator.add\n",
    "    ] # all workers write to this key in parallel\n",
    "    final_report : str # Final report\n",
    "\n",
    "# Worker State \n",
    "class WorkerState(TypedDict):\n",
    "    section : Section\n",
    "    completed_sections : Annotated[ list , operator.add ]"
   ]
  },
  {
   "cell_type": "code",
   "execution_count": 34,
   "metadata": {},
   "outputs": [],
   "source": [
    "# Nodes\n",
    "\n",
    "def orchestrator(state : State):\n",
    "\n",
    "    \"\"\"Orchestrator that generates a plan for the report\"\"\"\n",
    "\n",
    "    # Generate queries\n",
    "    report_sections = planner.invoke(\n",
    "        [\n",
    "            SystemMessage(content=\"Generate a plan for the report\"),\n",
    "            HumanMessage(content=f\"Here is the report topic : { state['topic'] }\" ) \n",
    "        ]\n",
    "    )\n",
    "\n",
    "    print(report_sections)\n",
    "\n",
    "    return { \"sections\" : report_sections.sections}"
   ]
  },
  {
   "cell_type": "code",
   "execution_count": 35,
   "metadata": {},
   "outputs": [],
   "source": [
    "def llm_call(state : WorkerState):\n",
    "\n",
    "    \"\"\"Worker writes a section of the report\"\"\"\n",
    "\n",
    "    # Generate section\n",
    "\n",
    "    section = llm.invoke(\n",
    "        [\n",
    "\n",
    "            SystemMessage(content = \" Write a report section following the provided name and description.Includes no preamble for each section\"),\n",
    "            HumanMessage(content=f\"Here is the section name : {state['section'].name} and description {state['section'].description} \")\n",
    "\n",
    "        ]\n",
    "    )\n",
    "\n",
    "    print(section)\n",
    "\n",
    "    return {\"completed_sections\" : [section.content]}\n"
   ]
  },
  {
   "cell_type": "code",
   "execution_count": 36,
   "metadata": {},
   "outputs": [],
   "source": [
    "def synthesizer(state : State):\n",
    "\n",
    "    \"Synthesize full report from sections\"\n",
    "\n",
    "    # list of completed sections\n",
    "    completed_sections = state[\"completed_sections\"]\n",
    "\n",
    "    # Format completed sections to str to use as context for final sections\n",
    "    completed_report_sections = \"\\n\\n--\\n\\n\".join(completed_sections)\n",
    "\n",
    "    return {\"final_report\" : completed_report_sections}\n"
   ]
  },
  {
   "cell_type": "code",
   "execution_count": 37,
   "metadata": {},
   "outputs": [],
   "source": [
    "# Conditional edge function to create llm_call workers that each write a section of the report\n",
    "def assign_workers(state : State):\n",
    "\n",
    "    \"Assign a worker to each section in the plan\"\n",
    "\n",
    "    # kick-off section writing in parallel via SEND() API\n",
    "\n",
    "    print(\"Assigning workers\")\n",
    "    \n",
    "    return [ Send (\"llm_call\" , {\"section\" : s} ) for s in state[\"sections\"]  ]"
   ]
  },
  {
   "cell_type": "code",
   "execution_count": 38,
   "metadata": {},
   "outputs": [
    {
     "data": {
      "text/plain": [
       "<langgraph.graph.state.StateGraph at 0x11f90fe80>"
      ]
     },
     "execution_count": 38,
     "metadata": {},
     "output_type": "execute_result"
    }
   ],
   "source": [
    "orchestrator_worker_builder = StateGraph(State)\n",
    "\n",
    "# add the nodes \n",
    "orchestrator_worker_builder.add_node(\"orchestrator\",orchestrator)\n",
    "orchestrator_worker_builder.add_node(\"llm_call\",llm_call)\n",
    "orchestrator_worker_builder.add_node(\"synthesizer\",synthesizer)\n",
    "\n",
    "orchestrator_worker_builder.add_edge(START , \"orchestrator\")\n",
    "orchestrator_worker_builder.add_conditional_edges(\n",
    "    \"orchestrator\",assign_workers,[\"llm_call\"]\n",
    ")\n",
    "orchestrator_worker_builder.add_edge(\"llm_call\" , \"synthesizer\")\n",
    "orchestrator_worker_builder.add_edge(\"synthesizer\",END)"
   ]
  },
  {
   "cell_type": "code",
   "execution_count": 39,
   "metadata": {},
   "outputs": [],
   "source": [
    "orchestrator_worker = orchestrator_worker_builder.compile()"
   ]
  },
  {
   "cell_type": "code",
   "execution_count": 40,
   "metadata": {},
   "outputs": [
    {
     "data": {
      "image/png": "[encoded data removed]",
      "text/plain": [
       "<IPython.core.display.Image object>"
      ]
     },
     "metadata": {},
     "output_type": "display_data"
    }
   ],
   "source": [
    "display(\n",
    "    Image(\n",
    "        orchestrator_worker.get_graph().draw_mermaid_png()\n",
    "    )\n",
    ")"
   ]
  },
  {
   "cell_type": "code",
   "execution_count": 41,
   "metadata": {},
   "outputs": [
    {
     "name": "stdout",
     "output_type": "stream",
     "text": [
      "sections=[Section(name='Introduction', description='Introduction to Agentic AI'), Section(name='RAGS', description='RAGS: A Deep Dive'), Section(name='Applications', description='Applications of Agentic AI'), Section(name='Ethics', description='Ethical Considerations'), Section(name='Future', description='Future Directions')]\n",
      "Assigning workers\n",
      "content='## Future Directions\\n\\nThis research lays the groundwork for future investigations in several promising directions.  First, the current study focused on [specific area of focus]. Expanding this research to encompass [related areas] would provide a more comprehensive understanding of [broader topic]. \\n\\nSecond, while this study demonstrated the effectiveness of [method or approach], further exploration is warranted to assess its applicability in diverse contexts.  This includes investigating its effectiveness across [different populations, settings, or situations].  \\n\\nThird, future research could delve deeper into the underlying mechanisms responsible for the observed [findings].  Specifically, exploring the role of [potential mediating or moderating variables] would shed light on the complex interplay of factors contributing to [phenomenon].  \\n\\nFinally,  the findings of this study could be translated into practical applications by developing and evaluating interventions based on the identified [key insights or recommendations].  These interventions could be implemented in [relevant settings] to promote [desired outcomes].  \\n\\n\\n\\n' additional_kwargs={} response_metadata={'token_usage': {'completion_tokens': 200, 'prompt_tokens': 38, 'total_tokens': 238, 'completion_time': 0.363636364, 'prompt_time': 0.006268047, 'queue_time': 0.46547248, 'total_time': 0.369904411}, 'model_name': 'Gemma2-9b-It', 'system_fingerprint': 'fp_10c08bf97d', 'finish_reason': 'stop', 'logprobs': None} id='run-439178f4-d3fe-4d60-a3a1-795fd1557af0-0' usage_metadata={'input_tokens': 38, 'output_tokens': 200, 'total_tokens': 238}\n",
      "content='## Introduction to Agentic AI\\n\\nAgentic AI refers to artificial intelligence systems designed to act autonomously and proactively in their environment. Unlike traditional AI systems that primarily respond to specific inputs, agential AI possesses the ability to set its own goals, make independent decisions, and take actions to achieve those goals. \\n\\nThis autonomy stems from several key characteristics:\\n\\n* **Goal-Oriented:** Agentic AI systems are driven by predefined or learned objectives. \\n* **Perceptive:** They can gather information about their surroundings through sensors or data feeds, allowing them to understand their context.\\n* **Decision-Making:** They employ sophisticated algorithms to analyze information, evaluate options, and make choices that contribute to goal achievement.\\n* **Actionable:** Agentic AI can directly interact with the environment, executing actions based on its decisions.\\n\\nThis combination of capabilities enables agential AI to exhibit behavior reminiscent of human agents, adapting to changing circumstances, learning from experiences, and pursuing complex tasks without constant human intervention. \\n\\n\\n' additional_kwargs={} response_metadata={'token_usage': {'completion_tokens': 206, 'prompt_tokens': 41, 'total_tokens': 247, 'completion_time': 0.374545455, 'prompt_time': 0.008529312, 'queue_time': 0.469133225, 'total_time': 0.383074767}, 'model_name': 'Gemma2-9b-It', 'system_fingerprint': 'fp_10c08bf97d', 'finish_reason': 'stop', 'logprobs': None} id='run-744fb995-32d6-4ad1-830a-c9937f923281-0' usage_metadata={'input_tokens': 41, 'output_tokens': 206, 'total_tokens': 247}\n",
      "content='## Applications of Agentic AI\\n\\nAgentic AI systems, with their ability to autonomously act and interact with their environment, hold immense potential across a wide range of applications:\\n\\n* **Robotics:** Agentic AI can power robots capable of complex tasks like navigation, manipulation, and problem-solving in dynamic environments. This has implications for industries like manufacturing, logistics, healthcare, and exploration.\\n* **Autonomous Vehicles:** Self-driving cars, trucks, and drones rely heavily on agentic AI for perception, decision-making, and safe navigation in complex traffic scenarios. \\n* **Personalized Education:** Agentic AI tutors can adapt to individual learning styles and pace, providing customized instruction and feedback, making education more personalized and effective.\\n* **Healthcare:** Agentic AI can assist with tasks like patient monitoring, diagnosis support, medication management, and even surgery, freeing up healthcare professionals to focus on more complex cases.\\n* **Customer Service:** AI-powered chatbots and virtual assistants can handle routine customer inquiries, provide quick solutions, and improve overall customer satisfaction.\\n* **Environmental Monitoring and Management:** Agentic AI can be deployed to monitor environmental conditions, detect pollution, track wildlife, and assist in disaster response efforts.\\n\\nThese are just a few examples, and as research in agentic AI progresses, we can expect to see even more innovative and transformative applications emerge across various sectors. \\n\\n\\n' additional_kwargs={} response_metadata={'token_usage': {'completion_tokens': 283, 'prompt_tokens': 41, 'total_tokens': 324, 'completion_time': 0.514545455, 'prompt_time': 0.00513349, 'queue_time': 0.49702678799999994, 'total_time': 0.519678945}, 'model_name': 'Gemma2-9b-It', 'system_fingerprint': 'fp_10c08bf97d', 'finish_reason': 'stop', 'logprobs': None} id='run-9974e798-729b-4ffe-bba3-8dced327c752-0' usage_metadata={'input_tokens': 41, 'output_tokens': 283, 'total_tokens': 324}\n",
      "content='## RAGS: A Deep Dive\\n\\nRAGS (**R**elevant **A**ttenttion **G**eneration with **S**patial **S**tructure) is a novel approach to text summarization that leverages the power of transformer models and spatial reasoning. Unlike traditional summarization methods that rely solely on sequential word embeddings, RAGS introduces a unique mechanism for capturing long-range dependencies and contextual relationships within a document.  \\n\\nAt its core, RAGS utilizes a hierarchical attention mechanism. Instead of processing text word by word, it groups words into \"regions\" based on semantic similarity and grammatical structure. These regions are then represented as nodes in a graph-like structure, allowing RAGS to analyze relationships and dependencies between different parts of the text. \\n\\nThe spatial structure embedded within this graph further enhances RAGS\\'s capabilities. By assigning spatial coordinates to each region, RAGS can leverage geometric information to understand the relative importance and proximity of different concepts. This spatial representation allows for a more nuanced understanding of the document\\'s overall structure and flow.\\n\\nRAGS\\'s unique combination of hierarchical attention and spatial reasoning has demonstrated significant improvements in summarization performance compared to traditional methods. It excels in capturing key ideas, maintaining factual accuracy, and generating coherent and concise summaries. \\n\\nFuture research directions for RAGS include exploring its potential in other natural language processing tasks, such as question answering and machine translation. Additionally, investigating the impact of different spatial encoding strategies and graph structures on RAGS\\'s performance is an area of active exploration. \\n' additional_kwargs={} response_metadata={'token_usage': {'completion_tokens': 318, 'prompt_tokens': 43, 'total_tokens': 361, 'completion_time': 0.578181818, 'prompt_time': 0.003888883, 'queue_time': 0.49521793199999997, 'total_time': 0.582070701}, 'model_name': 'Gemma2-9b-It', 'system_fingerprint': 'fp_10c08bf97d', 'finish_reason': 'stop', 'logprobs': None} id='run-06420265-5d44-4178-9cfd-9a6b163b7404-0' usage_metadata={'input_tokens': 43, 'output_tokens': 318, 'total_tokens': 361}\n",
      "content='## Ethics and Ethical Considerations\\n\\nThis project adheres to strict ethical guidelines throughout its development and deployment. \\n\\n**Data Privacy:** \\n\\nAll data used in this project is anonymized and handled in accordance with applicable privacy regulations.  Personal information is never collected, stored, or shared without explicit user consent.\\n\\n**Bias Mitigation:**  \\n\\nWe recognize the potential for bias in data and algorithms. We actively work to identify and mitigate bias in our datasets and algorithms through careful selection, feature engineering, and ongoing evaluation.\\n\\n**Transparency and Explainability:** \\n\\nWe strive for transparency in our methods and decision-making processes. Where possible, we aim to make our algorithms and their underlying logic understandable to users. \\n\\n**Fairness and Non-Discrimination:** \\n\\nThe project is designed to be fair and equitable, avoiding any discriminatory practices or outcomes. We continuously monitor and evaluate for potential biases that could lead to unfair treatment.\\n\\n**Accountability and Responsibility:** \\n\\nWe take full responsibility for the ethical implications of this project. We establish clear lines of accountability and implement mechanisms for addressing any ethical concerns that may arise.\\n\\n\\n**User Control and Autonomy:** \\n\\nUsers have control over their data and interactions with the project. They are informed about how their data is used and have the option to opt-out or modify their preferences.\\n\\n' additional_kwargs={} response_metadata={'token_usage': {'completion_tokens': 273, 'prompt_tokens': 38, 'total_tokens': 311, 'completion_time': 0.496363636, 'prompt_time': 0.006843776, 'queue_time': 0.7657421050000001, 'total_time': 0.503207412}, 'model_name': 'Gemma2-9b-It', 'system_fingerprint': 'fp_10c08bf97d', 'finish_reason': 'stop', 'logprobs': None} id='run-2b157605-5102-4014-bf8f-3b96ecafa207-0' usage_metadata={'input_tokens': 38, 'output_tokens': 273, 'total_tokens': 311}\n"
     ]
    }
   ],
   "source": [
    "state = orchestrator_worker.invoke({\"topic\" : \"Create a report on agentic ai RAGS\"})"
   ]
  },
  {
   "cell_type": "code",
   "execution_count": 42,
   "metadata": {},
   "outputs": [
    {
     "data": {
      "text/plain": [
       "'## Introduction to Agentic AI\\n\\nAgentic AI refers to artificial intelligence systems designed to act autonomously and proactively in their environment. Unlike traditional AI systems that primarily respond to specific inputs, agential AI possesses the ability to set its own goals, make independent decisions, and take actions to achieve those goals. \\n\\nThis autonomy stems from several key characteristics:\\n\\n* **Goal-Oriented:** Agentic AI systems are driven by predefined or learned objectives. \\n* **Perceptive:** They can gather information about their surroundings through sensors or data feeds, allowing them to understand their context.\\n* **Decision-Making:** They employ sophisticated algorithms to analyze information, evaluate options, and make choices that contribute to goal achievement.\\n* **Actionable:** Agentic AI can directly interact with the environment, executing actions based on its decisions.\\n\\nThis combination of capabilities enables agential AI to exhibit behavior reminiscent of human agents, adapting to changing circumstances, learning from experiences, and pursuing complex tasks without constant human intervention. \\n\\n\\n\\n\\n--\\n\\n## RAGS: A Deep Dive\\n\\nRAGS (**R**elevant **A**ttenttion **G**eneration with **S**patial **S**tructure) is a novel approach to text summarization that leverages the power of transformer models and spatial reasoning. Unlike traditional summarization methods that rely solely on sequential word embeddings, RAGS introduces a unique mechanism for capturing long-range dependencies and contextual relationships within a document.  \\n\\nAt its core, RAGS utilizes a hierarchical attention mechanism. Instead of processing text word by word, it groups words into \"regions\" based on semantic similarity and grammatical structure. These regions are then represented as nodes in a graph-like structure, allowing RAGS to analyze relationships and dependencies between different parts of the text. \\n\\nThe spatial structure embedded within this graph further enhances RAGS\\'s capabilities. By assigning spatial coordinates to each region, RAGS can leverage geometric information to understand the relative importance and proximity of different concepts. This spatial representation allows for a more nuanced understanding of the document\\'s overall structure and flow.\\n\\nRAGS\\'s unique combination of hierarchical attention and spatial reasoning has demonstrated significant improvements in summarization performance compared to traditional methods. It excels in capturing key ideas, maintaining factual accuracy, and generating coherent and concise summaries. \\n\\nFuture research directions for RAGS include exploring its potential in other natural language processing tasks, such as question answering and machine translation. Additionally, investigating the impact of different spatial encoding strategies and graph structures on RAGS\\'s performance is an area of active exploration. \\n\\n\\n--\\n\\n## Applications of Agentic AI\\n\\nAgentic AI systems, with their ability to autonomously act and interact with their environment, hold immense potential across a wide range of applications:\\n\\n* **Robotics:** Agentic AI can power robots capable of complex tasks like navigation, manipulation, and problem-solving in dynamic environments. This has implications for industries like manufacturing, logistics, healthcare, and exploration.\\n* **Autonomous Vehicles:** Self-driving cars, trucks, and drones rely heavily on agentic AI for perception, decision-making, and safe navigation in complex traffic scenarios. \\n* **Personalized Education:** Agentic AI tutors can adapt to individual learning styles and pace, providing customized instruction and feedback, making education more personalized and effective.\\n* **Healthcare:** Agentic AI can assist with tasks like patient monitoring, diagnosis support, medication management, and even surgery, freeing up healthcare professionals to focus on more complex cases.\\n* **Customer Service:** AI-powered chatbots and virtual assistants can handle routine customer inquiries, provide quick solutions, and improve overall customer satisfaction.\\n* **Environmental Monitoring and Management:** Agentic AI can be deployed to monitor environmental conditions, detect pollution, track wildlife, and assist in disaster response efforts.\\n\\nThese are just a few examples, and as research in agentic AI progresses, we can expect to see even more innovative and transformative applications emerge across various sectors. \\n\\n\\n\\n\\n--\\n\\n## Ethics and Ethical Considerations\\n\\nThis project adheres to strict ethical guidelines throughout its development and deployment. \\n\\n**Data Privacy:** \\n\\nAll data used in this project is anonymized and handled in accordance with applicable privacy regulations.  Personal information is never collected, stored, or shared without explicit user consent.\\n\\n**Bias Mitigation:**  \\n\\nWe recognize the potential for bias in data and algorithms. We actively work to identify and mitigate bias in our datasets and algorithms through careful selection, feature engineering, and ongoing evaluation.\\n\\n**Transparency and Explainability:** \\n\\nWe strive for transparency in our methods and decision-making processes. Where possible, we aim to make our algorithms and their underlying logic understandable to users. \\n\\n**Fairness and Non-Discrimination:** \\n\\nThe project is designed to be fair and equitable, avoiding any discriminatory practices or outcomes. We continuously monitor and evaluate for potential biases that could lead to unfair treatment.\\n\\n**Accountability and Responsibility:** \\n\\nWe take full responsibility for the ethical implications of this project. We establish clear lines of accountability and implement mechanisms for addressing any ethical concerns that may arise.\\n\\n\\n**User Control and Autonomy:** \\n\\nUsers have control over their data and interactions with the project. They are informed about how their data is used and have the option to opt-out or modify their preferences.\\n\\n\\n\\n--\\n\\n## Future Directions\\n\\nThis research lays the groundwork for future investigations in several promising directions.  First, the current study focused on [specific area of focus]. Expanding this research to encompass [related areas] would provide a more comprehensive understanding of [broader topic]. \\n\\nSecond, while this study demonstrated the effectiveness of [method or approach], further exploration is warranted to assess its applicability in diverse contexts.  This includes investigating its effectiveness across [different populations, settings, or situations].  \\n\\nThird, future research could delve deeper into the underlying mechanisms responsible for the observed [findings].  Specifically, exploring the role of [potential mediating or moderating variables] would shed light on the complex interplay of factors contributing to [phenomenon].  \\n\\nFinally,  the findings of this study could be translated into practical applications by developing and evaluating interventions based on the identified [key insights or recommendations].  These interventions could be implemented in [relevant settings] to promote [desired outcomes].  \\n\\n\\n\\n'"
      ]
     },
     "execution_count": 42,
     "metadata": {},
     "output_type": "execute_result"
    }
   ],
   "source": [
    "from IPython.display import Markdown\n",
    "# Markdown(state[\"final_report\"])   # to get in better format\n",
    "state[\"final_report\"]"
   ]
  },
  {
   "cell_type": "markdown",
   "metadata": {},
   "source": [
    "# EVALUATOR - OPTIMIZER \n",
    "\n",
    "In the evaluation-optimizer workflow , one LLM generates a response while another provides evaluation and feedback in a loop.\n",
    "\n",
    "When to use this workflow : This workflow is particularly effective when we have clear evaluation creteria ,and iterative refinement provides measurable value . The two signs of good fit are , first , that LLM responses can be \n",
    "demonstrably improved when a human articulates their feedback ; and second , that the LLM can provide such feedback .\n",
    "This is analogous to the iterative writing process a human writer might go through when producing a polished document."
   ]
  },
  {
   "cell_type": "code",
   "execution_count": 43,
   "metadata": {},
   "outputs": [],
   "source": [
    "# Graph State \n",
    "\n",
    "class State(TypedDict):\n",
    "\n",
    "    topic : str\n",
    "    mail_content : str\n",
    "    feedback : str\n",
    "    spam_or_not : str  # this is our evaluation criteria\n",
    "\n",
    "\n",
    "# Schema for structured output to use in evaluation\n",
    "class Feedback(BaseModel):\n",
    "\n",
    "    grade : Literal[ \"spam\" , \"not_spam\" ] = Field(\n",
    "        description=\"Decide if mail_content is spam or not \"\n",
    "    )\n",
    "\n",
    "    feedback : str = Field(\n",
    "        description=\"If the mail_content is spam , provide feedback on how to improve it.\"\n",
    "    )\n",
    "\n",
    "# Augment the LLM with schema for structured output\n",
    "evaluator = llm.with_structured_output(Feedback)"
   ]
  },
  {
   "cell_type": "code",
   "execution_count": 44,
   "metadata": {},
   "outputs": [],
   "source": [
    "# Nodes \n",
    "def llm_call_generator(state : State):\n",
    "\n",
    "    \"LLM generates a mail content\"\n",
    "\n",
    "    print(\"Hi i am here in the generator\")\n",
    "\n",
    "    if state.get(\"feedback\"):\n",
    "        response = llm.invoke(\n",
    "            f\"Write a mail_content related to {state['topic']} but take into account the feedback : {state['feedback']}\"\n",
    "        )\n",
    "    else:\n",
    "        response = llm.invoke(f\"Write a mail_content related to {state['topic']}\")\n",
    "    \n",
    "    return {\"mail_content\" : response.content}\n",
    "\n",
    "\n",
    "def llm_call_evaluator(state : State):\n",
    "\n",
    "    \"LLM evaulates the mail_content\"\n",
    "\n",
    "    print(\"Hi i am here in the evaluator\")\n",
    "\n",
    "    evaluation = evaluator.invoke(f\"Classify the mail_content : {state['mail_content']} \")\n",
    "\n",
    "    return {\"spam_or_not\" : evaluation.grade , \"feedback\" : evaluation.feedback}\n"
   ]
  },
  {
   "cell_type": "code",
   "execution_count": 45,
   "metadata": {},
   "outputs": [],
   "source": [
    "# Conditional Edge function to route back to mail generator or end based upon the feedback from evaluator\n",
    "\n",
    "def route_path(state : State):\n",
    "\n",
    "    \"\"\"route back to mail generator or end based upon the feedback from evaluator\"\"\"\n",
    "\n",
    "    if state[\"spam_or_not\"] == \"not_spam\":\n",
    "        return \"Accepted\"\n",
    "    \n",
    "    return \"Rejected + Feedback\"\n",
    "\n"
   ]
  },
  {
   "cell_type": "code",
   "execution_count": 46,
   "metadata": {},
   "outputs": [],
   "source": [
    "optimizer_builder = StateGraph(State)\n",
    "\n",
    "optimizer_builder.add_node(\"llm_call_generator\" , llm_call_generator)\n",
    "optimizer_builder.add_node(\"llm_call_evaluator\" , llm_call_evaluator)\n",
    "\n",
    "optimizer_builder.add_edge(START , \"llm_call_generator\")\n",
    "optimizer_builder.add_edge(\"llm_call_generator\",\"llm_call_evaluator\")\n",
    "optimizer_builder.add_conditional_edges(\n",
    "    \"llm_call_evaluator\",\n",
    "    route_path,\n",
    "    {\n",
    "        \"Accepted\" : END,\n",
    "        \"Rejected + Feedback\" : \"llm_call_generator\"\n",
    "    }\n",
    ")\n",
    "\n",
    "optimizer_workflow = optimizer_builder.compile()"
   ]
  },
  {
   "cell_type": "code",
   "execution_count": 47,
   "metadata": {},
   "outputs": [],
   "source": [
    "# display(\n",
    "#     Image(\n",
    "#         optimizer_workflow.get_graph().draw_mermaid_png()\n",
    "#     )\n",
    "# )"
   ]
  },
  {
   "cell_type": "code",
   "execution_count": 48,
   "metadata": {},
   "outputs": [
    {
     "name": "stdout",
     "output_type": "stream",
     "text": [
      "Hi i am here in the generator\n",
      "Hi i am here in the evaluator\n",
      "Hi i am here in the generator\n",
      "Hi i am here in the evaluator\n",
      "Hi i am here in the generator\n",
      "Hi i am here in the evaluator\n"
     ]
    }
   ],
   "source": [
    "state = optimizer_workflow.invoke({ \"topic\" : \"Hey i want to advertise for Car , write me a mail related to it\" })\n"
   ]
  },
  {
   "cell_type": "code",
   "execution_count": 49,
   "metadata": {},
   "outputs": [
    {
     "data": {
      "text/plain": [
       "{'topic': 'Hey i want to advertise for Car , write me a mail related to it',\n",
       " 'mail_content': \"Subject: Advertise Your Car with [Your Company Name] for Maximum Reach!\\n\\nHey [Name],\\n\\nLooking to sell your car quickly and easily?  \\n\\n[Your Company Name] is here to help! We offer comprehensive car advertising solutions that get your vehicle seen by the right buyers. \\n\\nHere's what we can do for you:\\n\\n* **Professional High-Quality Photos:**  Showcase your car's best features with stunning photos that attract attention.\\n* **Compelling Descriptions:**  We'll craft engaging descriptions that highlight your car's unique selling points and appeal to potential buyers.\\n* **Strategic Listing:** We'll list your car on top automotive marketplaces and websites to reach a wider audience.\\n* **Buyer Screening:**  We'll help you connect with serious buyers who are genuinely interested in your car.\\n* **Pricing Guidance:**  Our experts can provide valuable insights on pricing your car competitively.\\n\\nReady to get started?\\n\\nVisit our website [your website link] to learn more about our services and get a free quote.\\n\\nYou can also call us at [your phone number] to speak with one of our friendly representatives.\\n\\n\\nLet us help you sell your car fast and hassle-free!\\n\\nBest regards,\\n\\nThe [Your Company Name] Team\\n\\n\\n\\n**Optional:**\\n\\n* You can personalize the email further by mentioning the make and model of the car you're advertising (if known).\\n* Consider adding a limited-time offer or discount to incentivize immediate action.\\n\\n\\n\\n\",\n",
       " 'feedback': 'This email is a good example of a car advertising email. It clearly outlines the benefits of using the service and includes a call to action. ',\n",
       " 'spam_or_not': 'not_spam'}"
      ]
     },
     "execution_count": 49,
     "metadata": {},
     "output_type": "execute_result"
    }
   ],
   "source": [
    "state"
   ]
  },
  {
   "cell_type": "markdown",
   "metadata": {},
   "source": [
    "# Human in the Loop\n",
    "\n",
    "Review for Human in the loop , we often want to see our graph output as its running.\n",
    "\n",
    "We laid the foundations for this with running.\n",
    "\n",
    "\n",
    "\n",
    "Three main purpose : \n",
    "\n",
    "1.Approval (Interrupt the agent at any point of time and give feedback if any) : We can interrupt our agent , surface state to a user , and allow the user to accept an action.\n",
    "\n",
    "2.Debugging (To check the entire graph , how is the flow of execution) : We can rewind the reproduce or avoid issues.\n",
    "\n",
    "3.Editing : You can modify the state.\n",
    "\n",
    "\n",
    "LangGraph offers several ways to get or update agent state to support various human-in-the-loop workflows."
   ]
  },
  {
   "cell_type": "code",
   "execution_count": 50,
   "metadata": {},
   "outputs": [],
   "source": [
    "def add(a : int ,b : int) -> int:\n",
    "\n",
    "\n",
    "    \"\"\" Add a and b\n",
    "\n",
    "    Args :\n",
    "\n",
    "    a : first int\n",
    "    b : second int\n",
    "    \n",
    "    \"\"\"\n",
    "\n",
    "    return a + b\n",
    "\n",
    "def multiply(a : int ,b : int) -> int :\n",
    "\n",
    "    \"\"\" Multiply a and b\n",
    "\n",
    "    Args :\n",
    "\n",
    "    a : first int\n",
    "    b : second int\n",
    "    \n",
    "    \"\"\"\n",
    "\n",
    "    return a * b\n",
    "\n",
    "def divide(a : int , b : int) -> int :\n",
    "\n",
    "    \"\"\" Divide a by b\n",
    "\n",
    "    Args :\n",
    "\n",
    "    a : first int\n",
    "    b : first int\n",
    "\n",
    "    \"\"\"\n",
    "\n",
    "    return a / b\n",
    "\n",
    "def sqrt(a : int ) -> int :\n",
    "\n",
    "    \"\"\" Multiply a and a\n",
    "\n",
    "    Args :\n",
    "\n",
    "    a : first int\n",
    "\n",
    "    \"\"\"\n",
    "\n",
    "    return a * a"
   ]
  },
  {
   "cell_type": "code",
   "execution_count": 52,
   "metadata": {},
   "outputs": [],
   "source": [
    "tools = [add , multiply , divide , sqrt]\n",
    "\n",
    "llm_with_tools = llm.bind_tools(tools)"
   ]
  },
  {
   "cell_type": "code",
   "execution_count": 60,
   "metadata": {},
   "outputs": [],
   "source": [
    "from typing_extensions import TypedDict\n",
    "from langgraph.graph.message import add_messages , AnyMessage\n",
    "from langchain_core.messages import AIMessage , HumanMessage\n",
    "from langgraph.prebuilt import ToolNode\n",
    "from langgraph.prebuilt import tools_condition\n"
   ]
  },
  {
   "cell_type": "code",
   "execution_count": 61,
   "metadata": {},
   "outputs": [],
   "source": [
    "\n",
    "class MessageState(TypedDict):\n",
    "    messages : Annotated[ list[AnyMessage] , add_messages]\n",
    "\n",
    "def tool_calling_llm(state : MessageState):\n",
    "    return { \"messages\" : [ llm_with_tools.invoke( state[\"messages\"] ) ] }\n"
   ]
  },
  {
   "cell_type": "code",
   "execution_count": 57,
   "metadata": {},
   "outputs": [],
   "source": []
  },
  {
   "cell_type": "code",
   "execution_count": 58,
   "metadata": {},
   "outputs": [],
   "source": []
  },
  {
   "cell_type": "code",
   "execution_count": null,
   "metadata": {},
   "outputs": [],
   "source": []
  }
 ],
 "metadata": {
  "kernelspec": {
   "display_name": "venvLanggraph",
   "language": "python",
   "name": "python3"
  },
  "language_info": {
   "codemirror_mode": {
    "name": "ipython",
    "version": 3
   },
   "file_extension": ".py",
   "mimetype": "text/x-python",
   "name": "python",
   "nbconvert_exporter": "python",
   "pygments_lexer": "ipython3",
   "version": "3.9.6"
  }
 },
 "nbformat": 4,
 "nbformat_minor": 2
}
