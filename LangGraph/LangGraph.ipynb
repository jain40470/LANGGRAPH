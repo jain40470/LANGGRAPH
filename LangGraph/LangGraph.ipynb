{
 "cells": [
  {
   "cell_type": "markdown",
   "metadata": {},
   "source": [
    "Langchain lacks state management , visualization.\n",
    "\n",
    "Generative AI applications  === > Agentic AI applications\n",
    "\n",
    "In Generative AI applications , we implemnented rag , tools . agents and messagehistory.\n",
    "\n",
    "But let say you have task \"Plan a economical 5 days trip to France\"\n",
    "\n",
    "This kind of task the llm will be the brain and it will try to use different different tools.\n",
    "\n",
    "While planning we also need to make sure that the state management should be done . \n",
    "like day 2 should consider day 1."
   ]
  },
  {
   "cell_type": "code",
   "execution_count": 43,
   "metadata": {},
   "outputs": [],
   "source": [
    "from typing_extensions import TypedDict\n",
    "\n",
    "class State(TypedDict):\n",
    "    graph_state : str"
   ]
  },
  {
   "cell_type": "code",
   "execution_count": 44,
   "metadata": {},
   "outputs": [],
   "source": [
    "def first_node(state):\n",
    "    print(\"My first node is called\")\n",
    "    return { \"graph_state\" : state[\"graph_state\"] + \"I am playing\" }\n",
    "\n",
    "def second_node(state):\n",
    "    print(\"My second node is called\")\n",
    "    return { \"graph_state\" : state[\"graph_state\"] + \"Cricket\" }\n",
    "\n",
    "def third_node(state):\n",
    "    print(\"My third node is called\")\n",
    "    return { \"graph_state\" : state[\"graph_state\"] + \"Football\" }\n",
    "\n"
   ]
  },
  {
   "cell_type": "code",
   "execution_count": 45,
   "metadata": {},
   "outputs": [],
   "source": [
    "import random\n",
    "from typing import Literal\n",
    "\n",
    "# LITERAL : it specifies the return  (just like constants)\n",
    "\n",
    "def decide_play(state) -> Literal['second_node' , 'third_node']:\n",
    "    graph_state = state['graph_state']\n",
    "    if random.random() < 0.5:\n",
    "        return \"second_node\"\n",
    "    return \"third_node\"\n",
    "\n",
    "# since these are two constants which can be returned so we use Literal\n"
   ]
  },
  {
   "cell_type": "code",
   "execution_count": 46,
   "metadata": {},
   "outputs": [],
   "source": [
    "from langgraph.graph import StateGraph , START , END\n",
    "\n",
    "builder = StateGraph(State)\n",
    "builder.add_node(\"first_node\" , first_node)\n",
    "builder.add_node(\"second_node\" , second_node)\n",
    "builder.add_node(\"third_node\" , third_node)\n",
    "\n",
    "builder.add_edge( START , \"first_node\" )\n",
    "builder.add_conditional_edges(\"first_node\" , decide_play)\n",
    "builder.add_edge(\"second_node\" , END)\n",
    "builder.add_edge(\"third_node\",END)\n",
    "\n",
    "graph = builder.compile()"
   ]
  },
  {
   "cell_type": "code",
   "execution_count": 47,
   "metadata": {},
   "outputs": [
    {
     "name": "stdout",
     "output_type": "stream",
     "text": [
      "My first node is called\n",
      "My third node is called\n"
     ]
    },
    {
     "data": {
      "text/plain": [
       "{'graph_state': 'Lets startI am playingFootball'}"
      ]
     },
     "execution_count": 47,
     "metadata": {},
     "output_type": "execute_result"
    }
   ],
   "source": [
    "graph.invoke(\n",
    "    {\n",
    "        \"graph_state\" : \"Lets start\"\n",
    "    }\n",
    ")"
   ]
  },
  {
   "cell_type": "code",
   "execution_count": 48,
   "metadata": {},
   "outputs": [
    {
     "data": {
      "image/png": "[encoded data removed]",
      "text/plain": [
       "<IPython.core.display.Image object>"
      ]
     },
     "metadata": {},
     "output_type": "display_data"
    }
   ],
   "source": [
    "from IPython.display import Image , display\n",
    "\n",
    "display(\n",
    "    Image( \n",
    "        graph.get_graph().draw_mermaid_png() \n",
    "    )\n",
    ")"
   ]
  },
  {
   "cell_type": "markdown",
   "metadata": {},
   "source": [
    "# BASIC CHATBOT"
   ]
  },
  {
   "cell_type": "code",
   "execution_count": 49,
   "metadata": {},
   "outputs": [],
   "source": [
    "from typing import Annotated\n",
    "from typing_extensions import TypedDict\n",
    "\n",
    "from langgraph.graph import StateGraph , START , END\n",
    "from langgraph.graph.message import add_messages"
   ]
  },
  {
   "cell_type": "code",
   "execution_count": 50,
   "metadata": {},
   "outputs": [],
   "source": [
    "class State(TypedDict):\n",
    "    messages : Annotated[ list , add_messages ] # we are appending not overwriting the new."
   ]
  },
  {
   "cell_type": "code",
   "execution_count": 51,
   "metadata": {},
   "outputs": [],
   "source": [
    "import os\n",
    "\n",
    "from dotenv import load_dotenv\n",
    "load_dotenv()\n",
    "\n",
    "GOOGLE_API_KEY = os.getenv(\"GOOGLE_API_KEY\")\n",
    "os.environ[\"GOOGLE_API_KEY\"] = GOOGLE_API_KEY\n",
    "\n",
    "\n",
    "GROQ_API_KEY  = os.getenv(\"GROQ_API_KEY\")\n",
    "os.environ[\"GROQ_API_KEY\"] = GROQ_API_KEY\n"
   ]
  },
  {
   "cell_type": "code",
   "execution_count": 52,
   "metadata": {},
   "outputs": [],
   "source": [
    "\n",
    "from langchain_google_genai import ChatGoogleGenerativeAI \n",
    "from langchain_groq import ChatGroq\n",
    "\n",
    "# llm = ChatGoogleGenerativeAI(model = \"gemini-1.5-pro\" , temperature = 0 , max_tokens=100)\n",
    "llm = ChatGroq(model=\"Gemma2-9b-It\")\n"
   ]
  },
  {
   "cell_type": "code",
   "execution_count": 53,
   "metadata": {},
   "outputs": [],
   "source": [
    "def chatbot(state : State):\n",
    "    return { \"messages\" : [ llm.invoke( state[\"messages\"] ) ] }\n"
   ]
  },
  {
   "cell_type": "code",
   "execution_count": 54,
   "metadata": {},
   "outputs": [],
   "source": [
    "graph_builder = StateGraph(State)\n",
    "\n",
    "graph_builder.add_node(\"chatbot\" , chatbot)\n",
    "\n",
    "graph_builder.add_edge(START , \"chatbot\")\n",
    "graph_builder.add_edge(\"chatbot\",END)\n",
    "\n",
    "graph = graph_builder.compile()"
   ]
  },
  {
   "cell_type": "code",
   "execution_count": 55,
   "metadata": {},
   "outputs": [
    {
     "data": {
      "image/png": "[encoded data removed]",
      "text/plain": [
       "<IPython.core.display.Image object>"
      ]
     },
     "metadata": {},
     "output_type": "display_data"
    }
   ],
   "source": [
    "display(\n",
    "    Image( \n",
    "        graph.get_graph().draw_mermaid_png() \n",
    "    )\n",
    ")"
   ]
  },
  {
   "cell_type": "markdown",
   "metadata": {},
   "source": [
    "# Stream in graph"
   ]
  },
  {
   "cell_type": "code",
   "execution_count": 56,
   "metadata": {},
   "outputs": [],
   "source": [
    "def stream_graph_updates(user_input : str):\n",
    "    \n",
    "    for event in graph.stream( {\"messages\" : [ { \"role\" : \"user\" , \"content\" : user_input } ] } ) :\n",
    "\n",
    "        for value in event.values():\n",
    "\n",
    "            print(\" Assistant : \" , value[\"messages\"][-1].content)  \n"
   ]
  },
  {
   "cell_type": "code",
   "execution_count": 57,
   "metadata": {},
   "outputs": [
    {
     "name": "stdout",
     "output_type": "stream",
     "text": [
      "Goodbye\n"
     ]
    }
   ],
   "source": [
    "while True:\n",
    "\n",
    "    try:\n",
    "        user_input = input(\"User : \")\n",
    "        if user_input.lower() in [\"quit\" , \"exit\" , \"q\"] : \n",
    "            print(\"Goodbye\")\n",
    "            break\n",
    "        stream_graph_updates(user_input)\n",
    "\n",
    "    except:\n",
    "        user_input = input(\"what do you know about langgraph\")\n",
    "        print(\"User : \" + user_input)\n",
    "        stream_graph_updates(user_input)\n",
    "        break\n"
   ]
  },
  {
   "cell_type": "code",
   "execution_count": 58,
   "metadata": {},
   "outputs": [
    {
     "name": "stdout",
     "output_type": "stream",
     "text": [
      "==================================\u001b[1m Ai Message \u001b[0m==================================\n",
      "Name: model\n",
      "\n",
      "So you said you were researching ocean mammals\n",
      "================================\u001b[1m Human Message \u001b[0m=================================\n",
      "\n",
      "yes thats right\n"
     ]
    }
   ],
   "source": [
    "from pprint import pprint\n",
    "from langchain_core.messages import AIMessage , HumanMessage\n",
    "\n",
    "messages = [AIMessage(content=f\"So you said you were researching ocean mammals\" , name = \"model\") ]\n",
    "messages.append(HumanMessage(content=f\"yes thats right\" , model = \"Lance\"))\n",
    "\n",
    "for m in messages:\n",
    "    m.pretty_print()"
   ]
  },
  {
   "cell_type": "code",
   "execution_count": 59,
   "metadata": {},
   "outputs": [],
   "source": [
    "def add(a : int ,b : int) -> int:\n",
    "\n",
    "\n",
    "    \"\"\" Add a and b\n",
    "\n",
    "    Args :\n",
    "\n",
    "    a : first int\n",
    "    b : second int\n",
    "    \n",
    "    \"\"\"\n",
    "\n",
    "    return a + b"
   ]
  },
  {
   "cell_type": "code",
   "execution_count": 60,
   "metadata": {},
   "outputs": [],
   "source": [
    "llm_with_tools = llm.bind_tools([add])\n"
   ]
  },
  {
   "cell_type": "code",
   "execution_count": 61,
   "metadata": {},
   "outputs": [],
   "source": [
    "tool_call = llm_with_tools.invoke([ HumanMessage(content=f\"what is 2 plus 3\" , name = \"Lance\") ])"
   ]
  },
  {
   "cell_type": "code",
   "execution_count": 62,
   "metadata": {},
   "outputs": [
    {
     "data": {
      "text/plain": [
       "AIMessage(content='', additional_kwargs={'tool_calls': [{'id': 'call_mf9y', 'function': {'arguments': '{\"a\":2,\"b\":3}', 'name': 'add'}, 'type': 'function'}]}, response_metadata={'token_usage': {'completion_tokens': 86, 'prompt_tokens': 975, 'total_tokens': 1061, 'completion_time': 0.156363636, 'prompt_time': 0.04253008, 'queue_time': 0.23253431900000002, 'total_time': 0.198893716}, 'model_name': 'Gemma2-9b-It', 'system_fingerprint': 'fp_10c08bf97d', 'finish_reason': 'tool_calls', 'logprobs': None}, id='run-09d85c85-94ee-47e8-99fe-e4164e908e1f-0', tool_calls=[{'name': 'add', 'args': {'a': 2, 'b': 3}, 'id': 'call_mf9y', 'type': 'tool_call'}], usage_metadata={'input_tokens': 975, 'output_tokens': 86, 'total_tokens': 1061})"
      ]
     },
     "execution_count": 62,
     "metadata": {},
     "output_type": "execute_result"
    }
   ],
   "source": [
    "tool_call"
   ]
  },
  {
   "cell_type": "code",
   "execution_count": 63,
   "metadata": {},
   "outputs": [
    {
     "data": {
      "text/plain": [
       "[{'name': 'add',\n",
       "  'args': {'a': 2, 'b': 3},\n",
       "  'id': 'call_mf9y',\n",
       "  'type': 'tool_call'}]"
      ]
     },
     "execution_count": 63,
     "metadata": {},
     "output_type": "execute_result"
    }
   ],
   "source": [
    "tool_call.tool_calls"
   ]
  },
  {
   "cell_type": "code",
   "execution_count": 64,
   "metadata": {},
   "outputs": [],
   "source": [
    "from typing_extensions import TypedDict\n",
    "from langchain_core.messages import AnyMessage\n",
    "\n",
    "from typing import Annotated\n",
    "from langgraph.graph.message import add_messages\n",
    "\n"
   ]
  },
  {
   "cell_type": "code",
   "execution_count": 65,
   "metadata": {},
   "outputs": [
    {
     "data": {
      "text/plain": [
       "[AIMessage(content='hello How can i assist you', additional_kwargs={}, response_metadata={}, name='Model', id='f6810c2e-b651-46b2-ad7f-95fbf613fc1f'),\n",
       " HumanMessage(content='I am looking fo rinformation on generative AI', additional_kwargs={}, response_metadata={}, name='Akash', id='27c44dbd-965e-493c-bbb6-60253f5f51d8'),\n",
       " AIMessage(content='Hey sure ask me questions my friend', additional_kwargs={}, response_metadata={}, name='Model', id='cdf46577-89a0-472d-a302-45c4de0297f1')]"
      ]
     },
     "execution_count": 65,
     "metadata": {},
     "output_type": "execute_result"
    }
   ],
   "source": [
    "initial_message = [\n",
    "    AIMessage(content=\"hello How can i assist you\" , name = \"Model\"),\n",
    "    HumanMessage(content=\"I am looking fo rinformation on generative AI\" , name = \"Akash\" )\n",
    "]\n",
    "new_message = AIMessage(content=\"Hey sure ask me questions my friend\" , name=\"Model\")\n",
    "\n",
    "updated = add_messages(initial_message , new_message)\n",
    "updated"
   ]
  },
  {
   "cell_type": "code",
   "execution_count": 66,
   "metadata": {},
   "outputs": [],
   "source": [
    "\n",
    "class MessageState(TypedDict):\n",
    "    messages : Annotated[ list[AnyMessage] , add_messages]\n"
   ]
  },
  {
   "cell_type": "code",
   "execution_count": 67,
   "metadata": {},
   "outputs": [],
   "source": [
    "def tool_calling_llm(state : MessageState):\n",
    "    return { \"messages\" : [ llm_with_tools.invoke( state[\"messages\"] ) ] }\n"
   ]
  },
  {
   "cell_type": "code",
   "execution_count": 68,
   "metadata": {},
   "outputs": [],
   "source": [
    "graph_builder = StateGraph(MessageState)\n",
    "\n",
    "graph_builder.add_node(\"LLM_WITH_TOOL_CALL\" , tool_calling_llm)\n",
    "\n",
    "graph_builder.add_edge(START ,\"LLM_WITH_TOOL_CALL\")\n",
    "graph_builder.add_edge(\"LLM_WITH_TOOL_CALL\",END)\n",
    "\n",
    "graph = graph_builder.compile()"
   ]
  },
  {
   "cell_type": "code",
   "execution_count": 69,
   "metadata": {},
   "outputs": [
    {
     "data": {
      "image/png": "[encoded data removed]",
      "text/plain": [
       "<IPython.core.display.Image object>"
      ]
     },
     "metadata": {},
     "output_type": "display_data"
    }
   ],
   "source": [
    "display(\n",
    "    Image(\n",
    "        graph.get_graph().draw_mermaid_png()\n",
    "    )\n",
    ")"
   ]
  },
  {
   "cell_type": "code",
   "execution_count": 70,
   "metadata": {},
   "outputs": [
    {
     "name": "stdout",
     "output_type": "stream",
     "text": [
      "================================\u001b[1m Human Message \u001b[0m=================================\n",
      "\n",
      "Hello my name is Akash\n",
      "==================================\u001b[1m Ai Message \u001b[0m==================================\n",
      "Tool Calls:\n",
      "  add (call_j205)\n",
      " Call ID: call_j205\n",
      "  Args:\n",
      "    a: 0\n",
      "    b: 0\n"
     ]
    }
   ],
   "source": [
    "messages = graph.invoke({ \"messages\" : [HumanMessage(content=\"Hello my name is Akash\",model = \"Akash\")] })\n",
    "for m in messages['messages']:\n",
    "    m.pretty_print()"
   ]
  },
  {
   "cell_type": "code",
   "execution_count": 71,
   "metadata": {},
   "outputs": [
    {
     "name": "stdout",
     "output_type": "stream",
     "text": [
      "================================\u001b[1m Human Message \u001b[0m=================================\n",
      "\n",
      "what is 2 plus 2\n",
      "==================================\u001b[1m Ai Message \u001b[0m==================================\n",
      "Tool Calls:\n",
      "  add (call_1b3w)\n",
      " Call ID: call_1b3w\n",
      "  Args:\n",
      "    a: 2\n",
      "    b: 2\n"
     ]
    }
   ],
   "source": [
    "messages = graph.invoke({ \"messages\" : [HumanMessage(content=\"what is 2 plus 2\",model = \"Akash\")] })\n",
    "for m in messages['messages']:\n",
    "    m.pretty_print()"
   ]
  },
  {
   "cell_type": "markdown",
   "metadata": {},
   "source": [
    "hey how to decide tool is work of llm and in this case we are telling multiply but it is adding it \n",
    "depends on which llm are you using"
   ]
  },
  {
   "cell_type": "code",
   "execution_count": 72,
   "metadata": {},
   "outputs": [
    {
     "name": "stdout",
     "output_type": "stream",
     "text": [
      "================================\u001b[1m Human Message \u001b[0m=================================\n",
      "\n",
      "what is 2 multiply 2\n",
      "==================================\u001b[1m Ai Message \u001b[0m==================================\n",
      "Tool Calls:\n",
      "  add (call_8xa0)\n",
      " Call ID: call_8xa0\n",
      "  Args:\n",
      "    a: 2\n",
      "    b: 2\n"
     ]
    }
   ],
   "source": [
    "messages = graph.invoke({ \"messages\" : [HumanMessage(content=\"what is 2 multiply 2\",model = \"Akash\")] })\n",
    "for m in messages['messages']:\n",
    "    m.pretty_print()\n"
   ]
  },
  {
   "cell_type": "markdown",
   "metadata": {},
   "source": [
    "you can see tool is calling but its not execuing ."
   ]
  },
  {
   "cell_type": "code",
   "execution_count": 85,
   "metadata": {},
   "outputs": [],
   "source": [
    "from langgraph.prebuilt import ToolNode\n",
    "from langgraph.prebuilt import tools_condition"
   ]
  },
  {
   "cell_type": "code",
   "execution_count": 86,
   "metadata": {},
   "outputs": [],
   "source": [
    "def multiply(a : int ,b : int) -> int :\n",
    "\n",
    "    \"\"\" Multiply a and b\n",
    "\n",
    "    Args :\n",
    "\n",
    "    a : first int\n",
    "    b : second int\n",
    "    \n",
    "    \"\"\"\n",
    "\n",
    "    return a * b\n",
    "\n",
    "def sqrt(a : int ) -> int :\n",
    "\n",
    "    \"\"\" Multiply a and a\n",
    "\n",
    "    Args :\n",
    "\n",
    "    a : first int\n",
    "\n",
    "    \"\"\"\n",
    "\n",
    "    return a * a"
   ]
  },
  {
   "cell_type": "code",
   "execution_count": 87,
   "metadata": {},
   "outputs": [],
   "source": [
    "llm_with_tools = llm.bind_tools([multiply,add,sqrt])\n"
   ]
  },
  {
   "cell_type": "code",
   "execution_count": 88,
   "metadata": {},
   "outputs": [],
   "source": [
    "graph_builder = StateGraph(MessageState)\n",
    "\n",
    "graph_builder.add_node(\"tool_calling_llm\" , tool_calling_llm)\n",
    "graph_builder.add_node(\"tools\" , ToolNode([multiply,add,sqrt]))\n",
    "\n",
    "graph_builder.add_edge(START , \"tool_calling_llm\")\n",
    "graph_builder.add_conditional_edges(\n",
    "    \"tool_calling_llm\" ,\n",
    "    #if the latest message(result) from assistant is tool call -> tool_condition routes to tools\n",
    "    #if the latest message(result) from assistant is not a tool call -> tool_condition routes to END\n",
    "    tools_condition\n",
    ")\n",
    "graph_builder.add_edge(\"tools\",END)\n",
    "graph = graph_builder.compile()\n"
   ]
  },
  {
   "cell_type": "code",
   "execution_count": 89,
   "metadata": {},
   "outputs": [
    {
     "data": {
      "image/png": "[encoded data removed]",
      "text/plain": [
       "<IPython.core.display.Image object>"
      ]
     },
     "metadata": {},
     "output_type": "display_data"
    }
   ],
   "source": [
    "display(\n",
    "    Image(\n",
    "        graph.get_graph().draw_mermaid_png()\n",
    "    )\n",
    ")"
   ]
  },
  {
   "cell_type": "code",
   "execution_count": 90,
   "metadata": {},
   "outputs": [
    {
     "name": "stdout",
     "output_type": "stream",
     "text": [
      "================================\u001b[1m Human Message \u001b[0m=================================\n",
      "\n",
      "what is 2 multiply 2 add 3\n",
      "==================================\u001b[1m Ai Message \u001b[0m==================================\n",
      "Tool Calls:\n",
      "  multiply (call_5g55)\n",
      " Call ID: call_5g55\n",
      "  Args:\n",
      "    a: 2\n",
      "    b: 2\n",
      "=================================\u001b[1m Tool Message \u001b[0m=================================\n",
      "Name: multiply\n",
      "\n",
      "4\n"
     ]
    }
   ],
   "source": [
    "messages = [HumanMessage(content=\"what is 2 multiply 2 add 3\",model = \"Akash\")]\n",
    "messages = graph.invoke({ \"messages\" : messages })\n",
    "for m in messages['messages']:\n",
    "    m.pretty_print()\n",
    "\n",
    "# Hey you should bind the llm with tool and also you should add ToolNode \n",
    "# hey also toocondition directs you to Tools node .(its \"Tools\" node , so you should name it like only)"
   ]
  },
  {
   "cell_type": "code",
   "execution_count": 91,
   "metadata": {},
   "outputs": [
    {
     "name": "stdout",
     "output_type": "stream",
     "text": [
      "================================\u001b[1m Human Message \u001b[0m=================================\n",
      "\n",
      "what is 2 multiply 2 add 3 then sqrt it , then multiply it by 5 then add 7 , then sqrt it\n",
      "==================================\u001b[1m Ai Message \u001b[0m==================================\n",
      "Tool Calls:\n",
      "  sqrt (call_045y)\n",
      " Call ID: call_045y\n",
      "  Args:\n",
      "    a: 12.0\n",
      "=================================\u001b[1m Tool Message \u001b[0m=================================\n",
      "Name: sqrt\n",
      "\n",
      "144\n"
     ]
    }
   ],
   "source": [
    "messages = [HumanMessage(content=\"what is 2 multiply 2 add 3 then sqrt it , then multiply it by 5 then add 7 , then sqrt it\",model = \"Akash\")]\n",
    "messages = graph.invoke({ \"messages\" : messages })\n",
    "for m in messages['messages']:\n",
    "    m.pretty_print()"
   ]
  },
  {
   "cell_type": "code",
   "execution_count": 92,
   "metadata": {},
   "outputs": [],
   "source": [
    "llm_with_tools = llm.bind_tools([multiply,add,sqrt])"
   ]
  },
  {
   "cell_type": "code",
   "execution_count": 93,
   "metadata": {},
   "outputs": [],
   "source": [
    "graph_builder = StateGraph(MessageState)\n",
    "\n",
    "graph_builder.add_node(\"tool_calling_llm1\" , tool_calling_llm)\n",
    "graph_builder.add_node(\"tool_calling_llm2\" , tool_calling_llm)\n",
    "graph_builder.add_node(\"tools\" , ToolNode([multiply,add,sqrt]))\n",
    "\n",
    "graph_builder.add_edge(START , \"tool_calling_llm1\")\n",
    "graph_builder.add_conditional_edges(\n",
    "    \"tool_calling_llm1\" ,\n",
    "    #if the latest message(result) from assistant is tool call -> tool_condition routes to tools\n",
    "    #if the latest message(result) from assistant is not a tool call -> tool_condition routes to END\n",
    "    tools_condition\n",
    ")\n",
    "graph_builder.add_edge(\"tools\",\"tool_calling_llm2\")\n",
    "graph_builder.add_conditional_edges(\n",
    "    \"tool_calling_llm2\" ,\n",
    "    #if the latest message(result) from assistant is tool call -> tool_condition routes to tools\n",
    "    #if the latest message(result) from assistant is not a tool call -> tool_condition routes to END\n",
    "    tools_condition\n",
    ")\n",
    "graph_builder.add_edge(\"tools\",END)\n",
    "graph = graph_builder.compile()\n"
   ]
  },
  {
   "cell_type": "code",
   "execution_count": 94,
   "metadata": {},
   "outputs": [
    {
     "data": {
      "image/png": "[encoded data removed]",
      "text/plain": [
       "<IPython.core.display.Image object>"
      ]
     },
     "metadata": {},
     "output_type": "display_data"
    }
   ],
   "source": [
    "display(\n",
    "    Image(\n",
    "        graph.get_graph().draw_mermaid_png()\n",
    "    )\n",
    ")"
   ]
  },
  {
   "cell_type": "code",
   "execution_count": 95,
   "metadata": {},
   "outputs": [
    {
     "name": "stdout",
     "output_type": "stream",
     "text": [
      "================================\u001b[1m Human Message \u001b[0m=================================\n",
      "\n",
      "what is 2 multiply 2 add 3 then sqrt it\n",
      "==================================\u001b[1m Ai Message \u001b[0m==================================\n",
      "Tool Calls:\n",
      "  sqrt (call_qcst)\n",
      " Call ID: call_qcst\n",
      "  Args:\n",
      "    a: 7\n",
      "=================================\u001b[1m Tool Message \u001b[0m=================================\n",
      "Name: sqrt\n",
      "\n",
      "49\n",
      "==================================\u001b[1m Ai Message \u001b[0m==================================\n",
      "\n",
      "Okay, so the sqrt of 7 is 2.645751311064591\n"
     ]
    }
   ],
   "source": [
    "messages = [HumanMessage(content=\"what is 2 multiply 2 add 3 then sqrt it\",model = \"Akash\")]\n",
    "messages = graph.invoke({ \"messages\" : messages })\n",
    "for m in messages['messages']:\n",
    "    m.pretty_print()"
   ]
  },
  {
   "cell_type": "code",
   "execution_count": 97,
   "metadata": {},
   "outputs": [
    {
     "name": "stdout",
     "output_type": "stream",
     "text": [
      "================================\u001b[1m Human Message \u001b[0m=================================\n",
      "\n",
      "what is 2 multiply 2 add 3 then sqrt it and add 7 to it\n",
      "==================================\u001b[1m Ai Message \u001b[0m==================================\n",
      "Tool Calls:\n",
      "  sqrt (call_32ew)\n",
      " Call ID: call_32ew\n",
      "  Args:\n",
      "    a: 11\n",
      "=================================\u001b[1m Tool Message \u001b[0m=================================\n",
      "Name: sqrt\n",
      "\n",
      "121\n",
      "==================================\u001b[1m Ai Message \u001b[0m==================================\n",
      "Tool Calls:\n",
      "  add (call_hzyc)\n",
      " Call ID: call_hzyc\n",
      "  Args:\n",
      "    a: 121\n",
      "    b: 7\n",
      "=================================\u001b[1m Tool Message \u001b[0m=================================\n",
      "Name: add\n",
      "\n",
      "128\n",
      "==================================\u001b[1m Ai Message \u001b[0m==================================\n",
      "\n",
      "128\n"
     ]
    }
   ],
   "source": [
    "messages = [HumanMessage(content=\"what is 2 multiply 2 add 3 then sqrt it and add 7 to it\",model = \"Akash\")]\n",
    "messages = graph.invoke({ \"messages\" : messages })\n",
    "for m in messages['messages']:\n",
    "    m.pretty_print()"
   ]
  },
  {
   "cell_type": "code",
   "execution_count": null,
   "metadata": {},
   "outputs": [],
   "source": []
  }
 ],
 "metadata": {
  "kernelspec": {
   "display_name": "venvLanggraph",
   "language": "python",
   "name": "python3"
  },
  "language_info": {
   "codemirror_mode": {
    "name": "ipython",
    "version": 3
   },
   "file_extension": ".py",
   "mimetype": "text/x-python",
   "name": "python",
   "nbconvert_exporter": "python",
   "pygments_lexer": "ipython3",
   "version": "3.9.6"
  }
 },
 "nbformat": 4,
 "nbformat_minor": 2
}
