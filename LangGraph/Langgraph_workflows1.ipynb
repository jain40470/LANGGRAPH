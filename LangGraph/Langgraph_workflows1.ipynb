{
 "cells": [
  {
   "cell_type": "code",
   "execution_count": 2,
   "metadata": {},
   "outputs": [],
   "source": [
    "import warnings\n",
    "\n",
    "warnings.filterwarnings(\"ignore\")"
   ]
  },
  {
   "cell_type": "code",
   "execution_count": 3,
   "metadata": {},
   "outputs": [],
   "source": [
    "import os\n",
    "\n",
    "from dotenv import load_dotenv\n",
    "\n",
    "load_dotenv()\n",
    "\n",
    "\n",
    "GROQ_API_KEY  = os.getenv(\"GROQ_API_KEY\")\n",
    "os.environ[\"GROQ_API_KEY\"] = GROQ_API_KEY"
   ]
  },
  {
   "cell_type": "markdown",
   "metadata": {},
   "source": [
    "concept of pydantic , (multilevel check in runtme) ?? pls do it also"
   ]
  },
  {
   "cell_type": "code",
   "execution_count": 4,
   "metadata": {},
   "outputs": [],
   "source": [
    "from langchain_groq import ChatGroq\n",
    "\n",
    "llm = ChatGroq(model=\"Gemma2-9b-It\")"
   ]
  },
  {
   "cell_type": "code",
   "execution_count": 5,
   "metadata": {},
   "outputs": [],
   "source": [
    "from typing_extensions import TypedDict\n",
    "from langgraph.graph import StateGraph , START , END\n",
    "\n",
    "from IPython.display import Image , display"
   ]
  },
  {
   "cell_type": "code",
   "execution_count": 6,
   "metadata": {},
   "outputs": [],
   "source": [
    "class State(TypedDict):\n",
    "    topic : str\n",
    "    joke : str\n",
    "    improved_joke : str\n",
    "    final_joke : str"
   ]
  },
  {
   "cell_type": "code",
   "execution_count": 7,
   "metadata": {},
   "outputs": [],
   "source": [
    "def generate_joke(state):\n",
    "\n",
    "    \"\"\" First LLM Call to generate Jokes \"\"\"\n",
    "\n",
    "    response = llm.invoke(f\"Write a short joke about { state['topic'] }\")\n",
    "\n",
    "    return {\"joke\" : response.content}"
   ]
  },
  {
   "cell_type": "code",
   "execution_count": 8,
   "metadata": {},
   "outputs": [],
   "source": [
    "def check_punchline(state):\n",
    "\n",
    "    \"\"\" Gate Function to check if the joke has a punchline or not \"\"\"\n",
    "\n",
    "    if \"?\" in state['joke'] or \"!\" in state['joke'] :\n",
    "        return \"Fail\"\n",
    "    \n",
    "    return \"Pass\""
   ]
  },
  {
   "cell_type": "code",
   "execution_count": 9,
   "metadata": {},
   "outputs": [],
   "source": [
    "def improve_joke(state):\n",
    "\n",
    "    \"\"\" Second LLM CALL to improve the joke \"\"\"\n",
    "\n",
    "    response = llm.invoke(f\" Make this joke funnier by adding wordplay : {state['joke']} \")\n",
    "\n",
    "    return { \"improved_joke\" : response.content}\n"
   ]
  },
  {
   "cell_type": "code",
   "execution_count": 10,
   "metadata": {},
   "outputs": [],
   "source": [
    "def polish_joke(state):\n",
    "\n",
    "    \"\"\" Third LLM CALL to polish the joke \"\"\"\n",
    "\n",
    "    response = llm.invoke(f\" Add a surprising twist to this joke : {state['improved_joke']} \")\n",
    "\n",
    "    return { \"final_joke\" : response.content}\n"
   ]
  },
  {
   "cell_type": "code",
   "execution_count": 11,
   "metadata": {},
   "outputs": [],
   "source": [
    "graph_builder = StateGraph(State)\n",
    "\n",
    "graph_builder.add_node( \"generate_joke\"  , generate_joke)\n",
    "graph_builder.add_node( \"improve_joke\"  , improve_joke)\n",
    "graph_builder.add_node( \"polish_joke\"  , polish_joke)\n",
    "\n",
    "graph_builder.add_edge(START , \"generate_joke\")\n",
    "graph_builder.add_conditional_edges(\n",
    "    \"generate_joke\" ,\n",
    "    check_punchline,\n",
    "    {\"Fail\" : \"improve_joke\" , \"Pass\" : END }\n",
    ")\n",
    "graph_builder.add_edge( \"improve_joke\" , \"polish_joke\" )\n",
    "graph_builder.add_edge(\"polish_joke\" , END)\n",
    "\n",
    "graph = graph_builder.compile()"
   ]
  },
  {
   "cell_type": "code",
   "execution_count": 12,
   "metadata": {},
   "outputs": [
    {
     "data": {
      "image/png": "[encoded data removed]",
      "text/plain": [
       "<IPython.core.display.Image object>"
      ]
     },
     "metadata": {},
     "output_type": "display_data"
    }
   ],
   "source": [
    "display(\n",
    "    Image(   \n",
    "        graph.get_graph().draw_mermaid_png()\n",
    "    )\n",
    ")"
   ]
  },
  {
   "cell_type": "code",
   "execution_count": 13,
   "metadata": {},
   "outputs": [],
   "source": [
    "state = graph.invoke({ \"topic\" : \"Apple\"})"
   ]
  },
  {
   "cell_type": "code",
   "execution_count": 14,
   "metadata": {},
   "outputs": [
    {
     "data": {
      "text/plain": [
       "{'topic': 'Apple',\n",
       " 'joke': 'Why did the iPhone go to therapy? \\n\\nBecause it had too many apps-olutely terrible days! \\n',\n",
       " 'improved_joke': \"Why did the iPhone go to therapy? \\n\\nBecause it was feeling **appalled** by its own life! \\n\\n\\nLet me know if you'd like to brainstorm some more punny reasons! 😄 \\n\",\n",
       " 'final_joke': \"Here's a twist:\\n\\nWhy did the iPhone go to therapy?  Because it was feeling **appalled** by its own life! \\n\\n**Twist:** Turns out, the therapist was an Android who was secretly judging its glitchy performance.\\n\\n\\nLet me know if you want to brainstorm more! I'm full of punny ideas! 😄  \\n\"}"
      ]
     },
     "execution_count": 14,
     "metadata": {},
     "output_type": "execute_result"
    }
   ],
   "source": [
    "state"
   ]
  },
  {
   "cell_type": "code",
   "execution_count": 15,
   "metadata": {},
   "outputs": [
    {
     "name": "stdout",
     "output_type": "stream",
     "text": [
      "dict_keys(['topic', 'joke', 'improved_joke', 'final_joke'])\n",
      "Here's a twist:\n",
      "\n",
      "Why did the iPhone go to therapy?  Because it was feeling **appalled** by its own life! \n",
      "\n",
      "**Twist:** Turns out, the therapist was an Android who was secretly judging its glitchy performance.\n",
      "\n",
      "\n",
      "Let me know if you want to brainstorm more! I'm full of punny ideas! 😄  \n",
      "\n"
     ]
    }
   ],
   "source": [
    "print(state.keys())\n",
    "print(state['final_joke'])"
   ]
  },
  {
   "cell_type": "markdown",
   "metadata": {},
   "source": [
    "# ASSIGNMENT \n",
    "\n",
    "code peer review \n",
    "\n",
    "coder -> peer (review) -> Manager (doc string final)\n",
    "\n",
    "code -> review -> generate test cases -> run the test cases -> analyze the failed test cases -> give summary"
   ]
  },
  {
   "cell_type": "code",
   "execution_count": 16,
   "metadata": {},
   "outputs": [],
   "source": [
    "# pls do the assignment "
   ]
  },
  {
   "cell_type": "markdown",
   "metadata": {},
   "source": [
    "# PARALLELIZATION"
   ]
  },
  {
   "cell_type": "markdown",
   "metadata": {},
   "source": [
    "With parallelization , LLM works simultaneously on a task.\n",
    "\n",
    "LLMs can sometimes work simultanously on a task and have their outputs aggregated programmatically.\n",
    "This worklow parallization manifests in two key variations:\n",
    "\n",
    "Sectioning : Breaking a task into two independant subtasks run in parallel.\n",
    "\n",
    "Voting : Running the same task multiple times to get diverse output.\n",
    "\n",
    "\n"
   ]
  },
  {
   "cell_type": "code",
   "execution_count": 17,
   "metadata": {},
   "outputs": [],
   "source": [
    "class State(TypedDict):\n",
    "\n",
    "    topic : str\n",
    "    joke : str\n",
    "    poem : str\n",
    "    story : str\n",
    "    content : str"
   ]
  },
  {
   "cell_type": "code",
   "execution_count": 18,
   "metadata": {},
   "outputs": [],
   "source": [
    "def call_for_joke(state : State):\n",
    "    \n",
    "    \"\"\"LLM call for joke \"\"\"\n",
    "\n",
    "    response = llm.invoke( f\" Write a joke about {state['topic']} \" )\n",
    "\n",
    "    return { \"joke\" : response.content }\n",
    "\n",
    "def call_for_poem(state : State):\n",
    "    \n",
    "    \"\"\"LLM call for poem \"\"\"\n",
    "\n",
    "    response = llm.invoke( f\" Write a poem about {state['topic']} \" )\n",
    "\n",
    "    return { \"poem\" : response.content }\n",
    "\n",
    "def call_for_story(state : State):\n",
    "    \n",
    "    \"\"\"LLM call for story \"\"\"\n",
    "\n",
    "    response = llm.invoke( f\" Write a story about {state['topic']} \" )\n",
    "\n",
    "    return { \"story\" : response.content }"
   ]
  },
  {
   "cell_type": "code",
   "execution_count": 19,
   "metadata": {},
   "outputs": [],
   "source": [
    "def aggregator(state):\n",
    "\n",
    "    \"\"\" LLM call for combining poem , joke , story \"\"\"\n",
    "    \n",
    "    response = llm.invoke(\n",
    "\n",
    "        f\" I am providing with you story , poem and joke related to {state['topic']} , pls combiend all into to form a content .Here is the deatils Story : {state['story']} , Poem : {state['poem']} and Joke : {state['joke']}\"\n",
    "\n",
    "    )\n",
    "    \n",
    "    return { \"content\" : response.content }"
   ]
  },
  {
   "cell_type": "code",
   "execution_count": 20,
   "metadata": {},
   "outputs": [],
   "source": [
    "graph_builder = StateGraph(State)\n",
    "\n",
    "graph_builder.add_node( \"call_for_joke\" , call_for_joke )\n",
    "graph_builder.add_node( \"call_for_poem\" , call_for_poem )\n",
    "graph_builder.add_node( \"call_for_story\" , call_for_story )\n",
    "graph_builder.add_node(\"aggregator\" , aggregator)\n",
    "\n",
    "graph_builder.add_edge(START , \"call_for_joke\")\n",
    "graph_builder.add_edge(START , \"call_for_poem\")\n",
    "graph_builder.add_edge(START , \"call_for_story\")\n",
    "graph_builder.add_edge(\"call_for_joke\" , \"aggregator\")\n",
    "graph_builder.add_edge(\"call_for_poem\" , \"aggregator\")\n",
    "graph_builder.add_edge(\"call_for_story\" , \"aggregator\")\n",
    "graph_builder.add_edge(\"aggregator\" , END)\n",
    "\n",
    "graph = graph_builder.compile()"
   ]
  },
  {
   "cell_type": "code",
   "execution_count": 21,
   "metadata": {},
   "outputs": [],
   "source": [
    "# display(\n",
    "#     Image(graph.get_graph().draw_mermaid_png())\n",
    "# )"
   ]
  },
  {
   "cell_type": "code",
   "execution_count": 22,
   "metadata": {},
   "outputs": [],
   "source": [
    "state = graph.invoke( {\"topic\" : \"Jaguar\"} )"
   ]
  },
  {
   "cell_type": "code",
   "execution_count": 23,
   "metadata": {},
   "outputs": [
    {
     "name": "stdout",
     "output_type": "stream",
     "text": [
      "dict_keys(['topic', 'joke', 'poem', 'story', 'content'])\n"
     ]
    }
   ],
   "source": [
    "print(state.keys())"
   ]
  },
  {
   "cell_type": "code",
   "execution_count": 24,
   "metadata": {},
   "outputs": [
    {
     "data": {
      "text/plain": [
       "{'topic': 'Jaguar',\n",
       " 'joke': \"Why did the Jaguar cross the road? \\n\\nTo prove he wasn't chicken! \\n\\n\\nLet me know if you'd like to hear another one! \\n\",\n",
       " 'poem': \"A shadow slinks through dappled light,\\nA velvet whisper, sleek and bright.\\nA flash of gold, a piercing green,\\nThe jaguar moves, a silent scene.\\n\\nThrough jungle depths, a hunter's grace,\\nA powerful stride, a haunting face.\\nWith spotted coat and eyes that see,\\nThe jungle's heart, the wild and free.\\n\\nA roar that shakes the ancient trees,\\nA primal call on moonlit breeze.\\nA king of beasts, a hunter bold,\\nHis story in the jungle told.\\n\\nHe stalks his prey with patient might,\\nA symphony of stealth and light.\\nThen, swift and strong, a blur of speed,\\nThe jaguar's power, a primal creed.\\n\\nRespect his strength, his cunning mind,\\nThe jaguar's spirit, one of a kind.\\nA symbol wild, a creature rare,\\nA whisper of the jungle's lair. \\n\\n\\n\",\n",
       " 'story': 'The air hung heavy with the scent of rain and damp earth. A flash of tawny fur darted through the dense undergrowth, a blur of muscle and power. This was Kali, a young jaguar, her emerald eyes gleaming with a primal hunger. She was still learning the ways of the jungle, her sleek body a whirlwind of untamed energy.\\n\\nKali\\'s mother, Asha, a seasoned huntress with scars etched across her flanks like battle trophies, watched her daughter with a mixture of pride and apprehension.  Asha had taught Kali the ancient ways, the silent stalk, the deadly pounce, the art of survival in this unforgiving wilderness. But Kali, eager and impulsive, often overstepped boundaries, her youth revealing itself in reckless bravado.\\n\\nOne sweltering afternoon, a cacophony erupted from the canopy. A troop of howler monkeys, their guttural roars echoing through the trees, alerted the jungle to their presence. Kali\\'s ears pricked up, her hunger intensifying. She nudged Asha, her insistent purr vibrating through her mother\\'s ribs.\\n\\nAsha, ever cautious, shook her head. \"The troop is too large, Kali,\" she warned. \"Wait until a lone monkey strays from the safety of the group.\"\\n\\nBut Kali, impatient, had already slipped away, her lithe body melting into the shadows. Asha sighed, her motherly instincts warring with her caution. She knew she had to find Kali before she risked a confrontation with the troop.\\n\\nKali, however, was oblivious to her mother\\'s concern. She stalked closer, her movements fluid and silent, her emerald eyes fixed on a young monkey foraging on the forest floor. The monkey, oblivious to the danger lurking nearby, munched on a fallen fruit, its tail twitching nervously.\\n\\nKali tensed, her muscles coiled like springs. Then, with a burst of speed, she launched herself at the unsuspecting monkey. The air crackled with energy as she pounced, her powerful jaws snapping shut.\\n\\nSuddenly, the forest erupted in a symphony of shrieks and roars. The howler monkeys, alerted by their fallen comrade, descended upon Kali, a tide of agitated fur and fury. Kali, caught in the midst of the frenzy, found herself outnumbered and outmatched. \\n\\nAsha, hearing the commotion, raced through the undergrowth, her heart pounding in her chest. She arrived just in time to see Kali struggling against the onslaught of the monkeys.\\n\\nWith a guttural roar that shook the very leaves of the trees, Asha charged into the fray. Her seasoned experience and raw power cleared a path for Kali, her teeth bared, her claws flashing. The monkeys, momentarily stunned by Asha\\'s arrival, hesitated, their attacks faltering.  \\n\\nKali, seizing the opportunity, scrambled to her feet, her flanks still trembling from the encounter. She darted back to her mother, seeking refuge in her familiar scent.\\n\\nAsha, her gaze still fixed on the retreating monkeys, nudged Kali gently. \"Patience, daughter,\" she murmured. \"Strength lies not only in speed and power, but in knowing when to wait, when to choose your battles.\"\\n\\nKali, humbled by the experience, nuzzled against her mother, her youthful arrogance replaced by a newfound respect for the wisdom of the jungle. She had learned a valuable lesson, one that would stay with her as she grew into the powerful jaguar she was destined to be. \\n',\n",
       " 'content': '## The Majestic Jaguar: A Tale of Strength, Wisdom, and a Dash of Humor\\n\\nThe air hung heavy with the scent of rain and damp earth. A flash of tawny fur, like a whisper of gold, darted through the dense undergrowth. This was Kali, a young jaguar, her emerald eyes gleaming with a primal hunger.  \\n\\n**A Shadow in the Jungle**\\n\\nShe was still learning the ways of the jungle, her sleek body a whirlwind of untamed energy. \\n\\n*A shadow slinks through dappled light,*\\n*A velvet whisper, sleek and bright.*\\n*A flash of gold, a piercing green,*\\n*The jaguar moves, a silent scene.*\\n\\nAsha, Kali\\'s mother, a seasoned huntress with scars etched across her flanks like battle trophies, watched her daughter with a mixture of pride and apprehension. Asha had taught Kali the ancient ways, the silent stalk, the deadly pounce, the art of survival in this unforgiving wilderness. But Kali, eager and impulsive, often overstepped boundaries, her youth revealing itself in reckless bravado.\\n\\nOne scorching afternoon, a cacophony erupted from the canopy. A troop of howler monkeys, their guttural roars echoing through the trees, alerted the jungle to their presence. Kali\\'s ears pricked up, her hunger intensifying. She nudged Asha, her insistent purr vibrating through her mother\\'s ribs.\\n\\nAsha, ever cautious, shook her head. \"The troop is too large, Kali,\" she warned. \"Wait until a lone monkey strays from the safety of the group.\"\\n\\nBut Kali, impatient, had already slipped away, her lithe body melting into the shadows. Asha sighed, her motherly instincts warring with her caution. She knew she had to find Kali before she risked a confrontation with the troop.\\n\\n**A Lesson Learned**\\n\\nKali, however, was oblivious to her mother\\'s concern. She stalked closer, her movements fluid and silent, her emerald eyes fixed on a young monkey foraging on the forest floor. The monkey, oblivious to the danger lurking nearby, munched on a fallen fruit, its tail twitching nervously.\\n\\nKali tensed, her muscles coiled like springs. Then, with a burst of speed, she launched herself at the unsuspecting monkey. The air crackled with energy as she pounced, her powerful jaws snapping shut.\\n\\nSuddenly, the forest erupted in a symphony of shrieks and roars. The howler monkeys, alerted by their fallen comrade, descended upon Kali, a tide of agitated fur and fury. Kali, caught in the midst of the frenzy, found herself outnumbered and outmatched. \\n\\nAsha, hearing the commotion, raced through the undergrowth, her heart pounding in her chest. She arrived just in time to see Kali struggling against the onslaught of the monkeys.\\n\\nWith a guttural roar that shook the very leaves of the trees, Asha charged into the fray. Her seasoned experience and raw power cleared a path for Kali, her teeth bared, her claws flashing. The monkeys, momentarily stunned by Asha\\'s arrival, hesitated, their attacks faltering.  \\n\\nKali, seizing the opportunity, scrambled to her feet, her flanks still trembling from the encounter. She darted back to her mother, seeking refuge in her familiar scent.\\n\\nAsha, her gaze still fixed on the retreating monkeys, nudged Kali gently. \"Patience, daughter,\" she murmured. \"Strength lies not only in speed and power, but in knowing when to wait, when to choose your battles.\"\\n\\nKali, humbled by the experience, nuzzled against her mother, her youthful arrogance replaced by a newfound respect for the wisdom of the jungle. She had learned a valuable lesson, one that would stay with her as she grew into the powerful jaguar she was destined to be.\\n\\n**A Touch of Humor**\\n\\nAnd what about Kali\\'s future adventures?  Well, one sunny day she decided to cross the road. \\n\\n*Why did the Jaguar cross the road?*\\n\\n*To prove he wasn\\'t chicken!*  \\n\\n\\n\\n'}"
      ]
     },
     "execution_count": 24,
     "metadata": {},
     "output_type": "execute_result"
    }
   ],
   "source": [
    "state"
   ]
  },
  {
   "cell_type": "markdown",
   "metadata": {},
   "source": [
    "# ROUTING"
   ]
  },
  {
   "cell_type": "markdown",
   "metadata": {},
   "source": [
    "Routing classifies an input and directs it to a specialized followup task. This workflow allows for \n",
    "seperation of concerns , and building more specialized prompts . Without this workflow , optimizing \n",
    "for one kind of input can hurt performance on other inputs.\n",
    "\n",
    "When to use this workflow : Routing works well for complex tasks where there are distinct categories that\n",
    "are better handled seperately , and where classification can be handled accurately either by LLM or more traditional classification model / algorithm "
   ]
  },
  {
   "cell_type": "markdown",
   "metadata": {},
   "source": [
    "eg : let say you have to route mail to the tech team , support team or marketing team."
   ]
  },
  {
   "cell_type": "code",
   "execution_count": null,
   "metadata": {},
   "outputs": [],
   "source": [
    "from typing_extensions import Literal\n",
    "from pydantic import BaseModel , Field\n",
    "from langchain_core.messages import HumanMessage , SystemMessage\n",
    "\n",
    "#schema for structured output to use as a routing logic\n",
    "class Route(BaseModel):\n",
    "    step : Literal[\"pome\" , \"story\" , \"joke\"] = Field(\n",
    "        default = None , description = \"The next step in the routing process\"\n",
    "    )\n",
    "\n",
    "# Augment the llm with schema for structured output\n",
    "router = llm.with_structured_output(Route)\n",
    "\n",
    "# State\n",
    "class State(TypedDict):\n",
    "    input : str\n",
    "    decision : str\n",
    "    output : str\n",
    "\n",
    "# Nodes\n",
    "def llm_call_story(state : State):\n",
    "    \"Write a story\" \n",
    "    result = llm.invoke(state[\"input\"])\n",
    "    return { \"output\" : result.content }\n",
    "\n",
    "def llm_call_joke(state : State):\n",
    "    \"Write a joke\" \n",
    "    result = llm.invoke(state[\"input\"])\n",
    "    return { \"output\" : result.content }\n",
    "\n",
    "def llm_call_poem(state : State):\n",
    "    \"Write a poem\" \n",
    "    result = llm.invoke(state[\"input\"])\n",
    "    return { \"output\" : result.content }\n"
   ]
  },
  {
   "cell_type": "code",
   "execution_count": 27,
   "metadata": {},
   "outputs": [],
   "source": [
    "def llm_call_router(state : State):\n",
    "    \"Route the input to the apprpriate node\"\n",
    "\n",
    "    decision = router.invoke(\n",
    "        [\n",
    "            SystemMessage(\n",
    "                content = \"Route the input to story,joke , or poem based on the user's request\"\n",
    "            ),\n",
    "            HumanMessage(content=state[\"input\"])\n",
    "        ]\n",
    "    )\n",
    "\n",
    "    return {\"decision\" : decision.step}\n"
   ]
  },
  {
   "cell_type": "code",
   "execution_count": 28,
   "metadata": {},
   "outputs": [],
   "source": [
    "# Conditional edge function route to the appropriate node\n",
    "def route_decision(state : State):\n",
    "    \"Return the node name you want to visit next\"\n",
    "    if state[\"decision\"] == \"story\":\n",
    "        return \"llm_call_story\"\n",
    "    elif state[\"decision\"] == \"poem\":\n",
    "        return \"llm_call_poem\"\n",
    "    else:\n",
    "        return \"llm_call_joke\""
   ]
  },
  {
   "cell_type": "code",
   "execution_count": 30,
   "metadata": {},
   "outputs": [
    {
     "data": {
      "text/plain": [
       "<langgraph.graph.state.StateGraph at 0x1265538e0>"
      ]
     },
     "execution_count": 30,
     "metadata": {},
     "output_type": "execute_result"
    }
   ],
   "source": [
    "router_builder = StateGraph(State)\n",
    "\n",
    "router_builder.add_node(\"llm_call_joke\" , llm_call_joke)\n",
    "router_builder.add_node(\"llm_call_story\" , llm_call_story)\n",
    "router_builder.add_node(\"llm_call_poem\" , llm_call_poem)\n",
    "router_builder.add_node(\"llm_call_router\" , llm_call_router)\n",
    "\n",
    "router_builder.add_edge(START , \"llm_call_router\")\n",
    "router_builder.add_conditional_edges(\n",
    "    \"llm_call_router\",route_decision,\n",
    "    {\n",
    "        # Name returned by route decision : name of next node to visit\n",
    "        \"llm_call_story\" : \"llm_call_story\" ,\n",
    "        \"llm_call_poem\" : \"llm_call_poem\" ,\n",
    "        \"llm_call_joke\" : \"llm_call_joke\"\n",
    "    }\n",
    ")\n",
    "\n",
    "router_builder.add_edge(\"llm_call_joke\" , END)\n",
    "router_builder.add_edge(\"llm_call_poem\" , END)\n",
    "router_builder.add_edge(\"llm_call_story\" , END)"
   ]
  },
  {
   "cell_type": "code",
   "execution_count": 40,
   "metadata": {},
   "outputs": [],
   "source": [
    "router_graph = router_builder.compile()"
   ]
  },
  {
   "cell_type": "code",
   "execution_count": 43,
   "metadata": {},
   "outputs": [],
   "source": [
    "# display(\n",
    "#     Image(router_graph.get_graph().draw_mermaid_png())\n",
    "# )"
   ]
  },
  {
   "cell_type": "code",
   "execution_count": 44,
   "metadata": {},
   "outputs": [
    {
     "name": "stdout",
     "output_type": "stream",
     "text": [
      "Why don't cats play poker in the jungle? \n",
      "\n",
      "Too many cheetahs! 😹  \n",
      "\n"
     ]
    }
   ],
   "source": [
    "state = router_graph.invoke({\"input\" : \"Write a joke about cats\"})\n",
    "print(state[\"output\"])"
   ]
  },
  {
   "cell_type": "markdown",
   "metadata": {},
   "source": [
    "# Orchestrator - Worker\n",
    "\n",
    "In the orchestrator-worker's workflow , a central LLM dynamically breaks down tasks , delegates them to worker LLMS , and synthesize their results.\n",
    "\n",
    "When to use this workflow : This workflow is well suited for complex tasks where you can't predict the subtasks needed.\n",
    "(in coding , for example the number of files that need to be changed and the nature of change in each file likely depend on the task). Where it's topographically similar , the key differences from parallelization is its flexibility-subtasks are not predefined , but determined by orchestrator based on the specifi input.\n",
    "\n",
    "orchestrator (break down the task into subtask )-> subtask -> Synthesizer (combine all the task)"
   ]
  },
  {
   "cell_type": "code",
   "execution_count": 45,
   "metadata": {},
   "outputs": [],
   "source": [
    "from typing import Annotated , List\n",
    "import operator\n",
    "\n",
    "class Section(BaseModel):\n",
    "    name : str = Field(\n",
    "        description=\"Name for this section of the report\"\n",
    "    )\n",
    "    description : str = Field(\n",
    "        description=\"Brief overview of the main topics and concepts to be covered in this section\"\n",
    "    )\n",
    "\n",
    "class Sections(BaseModel):\n",
    "    sections : List[Section] = Field(\n",
    "        description=\"Sections of the report\"\n",
    "    )\n",
    "\n",
    "planner = llm.with_structured_output(Sections)"
   ]
  },
  {
   "cell_type": "markdown",
   "metadata": {},
   "source": [
    "# Creating Workers in LangGraph\n",
    "\n",
    "Because Orchestrator-worker workflows are common , LangGraph has the SEND Api to support this. It lets you dynamically \n",
    "create worker nodes and send each one a specific input . Each worker has its own state , and all workers output are written to a shared state key that is accessible to the orchestrator graph . This gives the orchestrator access to all \n",
    "worker output and allows it to synthesize them into a final output.As you can see below , we iterate over a list of sections and send each to a Worker node."
   ]
  },
  {
   "cell_type": "code",
   "execution_count": 46,
   "metadata": {},
   "outputs": [],
   "source": [
    "from langgraph.constants import Send\n",
    "\n",
    "# Graph state \n",
    "class State(TypedDict):\n",
    "    topic : str # Report topic\n",
    "    sections : list[Section] # List of report sections\n",
    "    completed_sections : Annotated[\n",
    "        list , operator.add\n",
    "    ] # all workers write to this key in parallel\n",
    "    final_report : str # Final report\n",
    "\n",
    "# Worker State \n",
    "class WorkerState(TypedDict):\n",
    "    section : Section\n",
    "    completed_sections : Annotated[ list , operator.add ]"
   ]
  },
  {
   "cell_type": "code",
   "execution_count": 49,
   "metadata": {},
   "outputs": [],
   "source": [
    "# Nodes\n",
    "\n",
    "def orchestrator(satte : State):\n",
    "\n",
    "    \"\"\"Orchestrator that generates a plan for the report\"\"\"\n",
    "\n",
    "    # Generate queries\n",
    "    report_sections = planner.invoke(\n",
    "        [\n",
    "            SystemMessage(content=\"Generate a plan for the report\"),\n",
    "            HumanMessage(content=f\"Here is the report topic : { state['topic'] }\" ) \n",
    "        ]\n",
    "    )\n",
    "\n",
    "    return { \"sections\" : report_sections.sections}"
   ]
  },
  {
   "cell_type": "code",
   "execution_count": 51,
   "metadata": {},
   "outputs": [],
   "source": [
    "def llm_call(state : WorkerState):\n",
    "\n",
    "    \"\"\"Worker writes a section of the report\"\"\"\n",
    "\n",
    "    # Generate section\n",
    "\n",
    "    section = llm.invoke(\n",
    "        [\n",
    "\n",
    "            SystemMessage(content = \" Write a report section following the provided name and description.Includes no preamble for each section\"),\n",
    "            HumanMessage(content=f\"Here is the section name : {state['section'].name} and description {state['section'].description} \")\n",
    "\n",
    "        ]\n",
    "    )\n",
    "\n",
    "    return {\"completed_section\" : [section.content]}\n"
   ]
  },
  {
   "cell_type": "code",
   "execution_count": 52,
   "metadata": {},
   "outputs": [],
   "source": [
    "def synthesizer(state : State):\n",
    "\n",
    "    \"Synthesize full report from sections\"\n",
    "\n",
    "    # list of completed sections\n",
    "    completed_sections = state[\"completed_sections\"]\n",
    "\n",
    "    # Format completed sections to str to use as context for final sections\n",
    "    completed_report_sections = \"\\n\\n--\\n\\n\".join(completed_sections)\n",
    "\n",
    "    return {\"final_report\" : completed_report_sections}\n"
   ]
  },
  {
   "cell_type": "code",
   "execution_count": null,
   "metadata": {},
   "outputs": [],
   "source": [
    "# Conditional edge function to create llm_call workers that each write a section of the report\n",
    "def assign_workers(state : State):\n",
    "\n",
    "    \"Assign a worker to each section in the plan\"\n",
    "\n",
    "    # kick-off section writing in parallel via SEND() API\n",
    "\n",
    "    return [ Send (\"llm_call\" , {\"section\" : s} ) for s in state[\"sections\"]  ]"
   ]
  }
 ],
 "metadata": {
  "kernelspec": {
   "display_name": "venvLanggraph",
   "language": "python",
   "name": "python3"
  },
  "language_info": {
   "codemirror_mode": {
    "name": "ipython",
    "version": 3
   },
   "file_extension": ".py",
   "mimetype": "text/x-python",
   "name": "python",
   "nbconvert_exporter": "python",
   "pygments_lexer": "ipython3",
   "version": "3.9.6"
  }
 },
 "nbformat": 4,
 "nbformat_minor": 2
}
